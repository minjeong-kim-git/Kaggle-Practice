{
  "cells": [
    {
      "cell_type": "markdown",
      "metadata": {
        "id": "view-in-github",
        "colab_type": "text"
      },
      "source": [
        "<a href=\"https://colab.research.google.com/github/minjeong-kim-git/Kaggle-Practice/blob/main/Day%2005/ML_01_Iris.ipynb\" target=\"_parent\"><img src=\"https://colab.research.google.com/assets/colab-badge.svg\" alt=\"Open In Colab\"/></a>"
      ]
    },
    {
      "cell_type": "markdown",
      "id": "270fb36a-87fb-4c8b-b332-3f99d1d984ca",
      "metadata": {
        "id": "270fb36a-87fb-4c8b-b332-3f99d1d984ca"
      },
      "source": [
        "# Gradient Descent"
      ]
    },
    {
      "cell_type": "markdown",
      "id": "d77f9396-ec61-48f7-af42-6e09a9ea8bd7",
      "metadata": {
        "id": "d77f9396-ec61-48f7-af42-6e09a9ea8bd7"
      },
      "source": [
        "- **Team ID** : 03조"
      ]
    },
    {
      "cell_type": "markdown",
      "id": "b99a5743-1dbb-49ff-ab4c-dbf3eae722b0",
      "metadata": {
        "id": "b99a5743-1dbb-49ff-ab4c-dbf3eae722b0"
      },
      "source": [
        "- Write and run the code below (including Quiz) in jupyter notebook\n",
        "- After completion, rename the file, and summit the file to e-class\n",
        "- Submit file name : **“ML01\\_<#조\\>.ipynb”**, send me <mkpark@hufs.ac.kr>\n",
        "  - Ex) ML01\\_#조\\.ipynb\n",
        "- Due : **내일 11:59pm**"
      ]
    },
    {
      "cell_type": "code",
      "execution_count": 1,
      "id": "5a6b0499-0f10-4ed6-b5b8-c3badacb95fb",
      "metadata": {
        "id": "5a6b0499-0f10-4ed6-b5b8-c3badacb95fb"
      },
      "outputs": [],
      "source": [
        "%matplotlib inline\n",
        "import matplotlib.pyplot as plt\n",
        "import numpy as np"
      ]
    },
    {
      "cell_type": "code",
      "source": [
        "from google.colab import drive\n",
        "drive.mount('/content/drive')"
      ],
      "metadata": {
        "colab": {
          "base_uri": "https://localhost:8080/"
        },
        "id": "MTDqgxSAuIC1",
        "outputId": "eb6e9430-084a-428f-e680-1c22c670c062"
      },
      "id": "MTDqgxSAuIC1",
      "execution_count": 2,
      "outputs": [
        {
          "output_type": "stream",
          "name": "stdout",
          "text": [
            "Drive already mounted at /content/drive; to attempt to forcibly remount, call drive.mount(\"/content/drive\", force_remount=True).\n"
          ]
        }
      ]
    },
    {
      "cell_type": "markdown",
      "id": "ede32662-2fdf-4d30-806b-4b50b13eaef2",
      "metadata": {
        "tags": [],
        "id": "ede32662-2fdf-4d30-806b-4b50b13eaef2"
      },
      "source": [
        "# 1. Perceptron"
      ]
    },
    {
      "cell_type": "markdown",
      "id": "35631ad6-5c60-4c58-bba7-013f4733b1f7",
      "metadata": {
        "id": "35631ad6-5c60-4c58-bba7-013f4733b1f7"
      },
      "source": [
        "## Load Iris dataset\n",
        "\n",
        "- Iris dataset  \n",
        " 0 - sepal length in cm  \n",
        " 1 - sepal width in cm  \n",
        " 2 - petal length in cm  \n",
        " 3 - petal width in cm  \n",
        " 4 - class:  \n",
        "    - Iris Setosa  \n",
        "    - Iris Versicolour  \n",
        "    - Iris Virginica"
      ]
    },
    {
      "cell_type": "code",
      "execution_count": 3,
      "id": "2aca83b6-a883-4f7f-a6bc-c5003f377fd2",
      "metadata": {
        "tags": [],
        "colab": {
          "base_uri": "https://localhost:8080/",
          "height": 206
        },
        "id": "2aca83b6-a883-4f7f-a6bc-c5003f377fd2",
        "outputId": "dcef2793-45b5-47c0-815a-207c08130f6d"
      },
      "outputs": [
        {
          "output_type": "execute_result",
          "data": {
            "text/plain": [
              "     0    1    2    3            4\n",
              "0  5.1  3.5  1.4  0.2  Iris-setosa\n",
              "1  4.9  3.0  1.4  0.2  Iris-setosa\n",
              "2  4.7  3.2  1.3  0.2  Iris-setosa\n",
              "3  4.6  3.1  1.5  0.2  Iris-setosa\n",
              "4  5.0  3.6  1.4  0.2  Iris-setosa"
            ],
            "text/html": [
              "\n",
              "  <div id=\"df-a9d610c2-875d-43c2-a76e-a04c249cc7dd\">\n",
              "    <div class=\"colab-df-container\">\n",
              "      <div>\n",
              "<style scoped>\n",
              "    .dataframe tbody tr th:only-of-type {\n",
              "        vertical-align: middle;\n",
              "    }\n",
              "\n",
              "    .dataframe tbody tr th {\n",
              "        vertical-align: top;\n",
              "    }\n",
              "\n",
              "    .dataframe thead th {\n",
              "        text-align: right;\n",
              "    }\n",
              "</style>\n",
              "<table border=\"1\" class=\"dataframe\">\n",
              "  <thead>\n",
              "    <tr style=\"text-align: right;\">\n",
              "      <th></th>\n",
              "      <th>0</th>\n",
              "      <th>1</th>\n",
              "      <th>2</th>\n",
              "      <th>3</th>\n",
              "      <th>4</th>\n",
              "    </tr>\n",
              "  </thead>\n",
              "  <tbody>\n",
              "    <tr>\n",
              "      <th>0</th>\n",
              "      <td>5.1</td>\n",
              "      <td>3.5</td>\n",
              "      <td>1.4</td>\n",
              "      <td>0.2</td>\n",
              "      <td>Iris-setosa</td>\n",
              "    </tr>\n",
              "    <tr>\n",
              "      <th>1</th>\n",
              "      <td>4.9</td>\n",
              "      <td>3.0</td>\n",
              "      <td>1.4</td>\n",
              "      <td>0.2</td>\n",
              "      <td>Iris-setosa</td>\n",
              "    </tr>\n",
              "    <tr>\n",
              "      <th>2</th>\n",
              "      <td>4.7</td>\n",
              "      <td>3.2</td>\n",
              "      <td>1.3</td>\n",
              "      <td>0.2</td>\n",
              "      <td>Iris-setosa</td>\n",
              "    </tr>\n",
              "    <tr>\n",
              "      <th>3</th>\n",
              "      <td>4.6</td>\n",
              "      <td>3.1</td>\n",
              "      <td>1.5</td>\n",
              "      <td>0.2</td>\n",
              "      <td>Iris-setosa</td>\n",
              "    </tr>\n",
              "    <tr>\n",
              "      <th>4</th>\n",
              "      <td>5.0</td>\n",
              "      <td>3.6</td>\n",
              "      <td>1.4</td>\n",
              "      <td>0.2</td>\n",
              "      <td>Iris-setosa</td>\n",
              "    </tr>\n",
              "  </tbody>\n",
              "</table>\n",
              "</div>\n",
              "      <button class=\"colab-df-convert\" onclick=\"convertToInteractive('df-a9d610c2-875d-43c2-a76e-a04c249cc7dd')\"\n",
              "              title=\"Convert this dataframe to an interactive table.\"\n",
              "              style=\"display:none;\">\n",
              "        \n",
              "  <svg xmlns=\"http://www.w3.org/2000/svg\" height=\"24px\"viewBox=\"0 0 24 24\"\n",
              "       width=\"24px\">\n",
              "    <path d=\"M0 0h24v24H0V0z\" fill=\"none\"/>\n",
              "    <path d=\"M18.56 5.44l.94 2.06.94-2.06 2.06-.94-2.06-.94-.94-2.06-.94 2.06-2.06.94zm-11 1L8.5 8.5l.94-2.06 2.06-.94-2.06-.94L8.5 2.5l-.94 2.06-2.06.94zm10 10l.94 2.06.94-2.06 2.06-.94-2.06-.94-.94-2.06-.94 2.06-2.06.94z\"/><path d=\"M17.41 7.96l-1.37-1.37c-.4-.4-.92-.59-1.43-.59-.52 0-1.04.2-1.43.59L10.3 9.45l-7.72 7.72c-.78.78-.78 2.05 0 2.83L4 21.41c.39.39.9.59 1.41.59.51 0 1.02-.2 1.41-.59l7.78-7.78 2.81-2.81c.8-.78.8-2.07 0-2.86zM5.41 20L4 18.59l7.72-7.72 1.47 1.35L5.41 20z\"/>\n",
              "  </svg>\n",
              "      </button>\n",
              "      \n",
              "  <style>\n",
              "    .colab-df-container {\n",
              "      display:flex;\n",
              "      flex-wrap:wrap;\n",
              "      gap: 12px;\n",
              "    }\n",
              "\n",
              "    .colab-df-convert {\n",
              "      background-color: #E8F0FE;\n",
              "      border: none;\n",
              "      border-radius: 50%;\n",
              "      cursor: pointer;\n",
              "      display: none;\n",
              "      fill: #1967D2;\n",
              "      height: 32px;\n",
              "      padding: 0 0 0 0;\n",
              "      width: 32px;\n",
              "    }\n",
              "\n",
              "    .colab-df-convert:hover {\n",
              "      background-color: #E2EBFA;\n",
              "      box-shadow: 0px 1px 2px rgba(60, 64, 67, 0.3), 0px 1px 3px 1px rgba(60, 64, 67, 0.15);\n",
              "      fill: #174EA6;\n",
              "    }\n",
              "\n",
              "    [theme=dark] .colab-df-convert {\n",
              "      background-color: #3B4455;\n",
              "      fill: #D2E3FC;\n",
              "    }\n",
              "\n",
              "    [theme=dark] .colab-df-convert:hover {\n",
              "      background-color: #434B5C;\n",
              "      box-shadow: 0px 1px 3px 1px rgba(0, 0, 0, 0.15);\n",
              "      filter: drop-shadow(0px 1px 2px rgba(0, 0, 0, 0.3));\n",
              "      fill: #FFFFFF;\n",
              "    }\n",
              "  </style>\n",
              "\n",
              "      <script>\n",
              "        const buttonEl =\n",
              "          document.querySelector('#df-a9d610c2-875d-43c2-a76e-a04c249cc7dd button.colab-df-convert');\n",
              "        buttonEl.style.display =\n",
              "          google.colab.kernel.accessAllowed ? 'block' : 'none';\n",
              "\n",
              "        async function convertToInteractive(key) {\n",
              "          const element = document.querySelector('#df-a9d610c2-875d-43c2-a76e-a04c249cc7dd');\n",
              "          const dataTable =\n",
              "            await google.colab.kernel.invokeFunction('convertToInteractive',\n",
              "                                                     [key], {});\n",
              "          if (!dataTable) return;\n",
              "\n",
              "          const docLinkHtml = 'Like what you see? Visit the ' +\n",
              "            '<a target=\"_blank\" href=https://colab.research.google.com/notebooks/data_table.ipynb>data table notebook</a>'\n",
              "            + ' to learn more about interactive tables.';\n",
              "          element.innerHTML = '';\n",
              "          dataTable['output_type'] = 'display_data';\n",
              "          await google.colab.output.renderOutput(dataTable, element);\n",
              "          const docLink = document.createElement('div');\n",
              "          docLink.innerHTML = docLinkHtml;\n",
              "          element.appendChild(docLink);\n",
              "        }\n",
              "      </script>\n",
              "    </div>\n",
              "  </div>\n",
              "  "
            ]
          },
          "metadata": {},
          "execution_count": 3
        }
      ],
      "source": [
        "import pandas as pd\n",
        "df = pd.read_csv('/content/drive/MyDrive/data/iris.csv', header=None)\n",
        "df.head()"
      ]
    },
    {
      "cell_type": "markdown",
      "id": "66c607ff-e5a8-4661-9f16-d5cc36332af2",
      "metadata": {
        "tags": [],
        "id": "66c607ff-e5a8-4661-9f16-d5cc36332af2"
      },
      "source": [
        "### Preprocessing for training data"
      ]
    },
    {
      "cell_type": "code",
      "execution_count": 4,
      "id": "ced95ea1-ba4c-48af-9418-c89edfa3bfee",
      "metadata": {
        "colab": {
          "base_uri": "https://localhost:8080/"
        },
        "id": "ced95ea1-ba4c-48af-9418-c89edfa3bfee",
        "outputId": "a21ba530-dd8a-498f-9829-75a37e4bb4ef"
      },
      "outputs": [
        {
          "output_type": "execute_result",
          "data": {
            "text/plain": [
              "array(['Iris-setosa', 'Iris-setosa', 'Iris-setosa', 'Iris-setosa',\n",
              "       'Iris-setosa', 'Iris-setosa', 'Iris-setosa', 'Iris-setosa',\n",
              "       'Iris-setosa', 'Iris-setosa', 'Iris-setosa', 'Iris-setosa',\n",
              "       'Iris-setosa', 'Iris-setosa', 'Iris-setosa', 'Iris-setosa',\n",
              "       'Iris-setosa', 'Iris-setosa', 'Iris-setosa', 'Iris-setosa',\n",
              "       'Iris-setosa', 'Iris-setosa', 'Iris-setosa', 'Iris-setosa',\n",
              "       'Iris-setosa', 'Iris-setosa', 'Iris-setosa', 'Iris-setosa',\n",
              "       'Iris-setosa', 'Iris-setosa', 'Iris-setosa', 'Iris-setosa',\n",
              "       'Iris-setosa', 'Iris-setosa', 'Iris-setosa', 'Iris-setosa',\n",
              "       'Iris-setosa', 'Iris-setosa', 'Iris-setosa', 'Iris-setosa',\n",
              "       'Iris-setosa', 'Iris-setosa', 'Iris-setosa', 'Iris-setosa',\n",
              "       'Iris-setosa', 'Iris-setosa', 'Iris-setosa', 'Iris-setosa',\n",
              "       'Iris-setosa', 'Iris-setosa', 'Iris-versicolor', 'Iris-versicolor',\n",
              "       'Iris-versicolor', 'Iris-versicolor', 'Iris-versicolor',\n",
              "       'Iris-versicolor', 'Iris-versicolor', 'Iris-versicolor',\n",
              "       'Iris-versicolor', 'Iris-versicolor', 'Iris-versicolor',\n",
              "       'Iris-versicolor', 'Iris-versicolor', 'Iris-versicolor',\n",
              "       'Iris-versicolor', 'Iris-versicolor', 'Iris-versicolor',\n",
              "       'Iris-versicolor', 'Iris-versicolor', 'Iris-versicolor',\n",
              "       'Iris-versicolor', 'Iris-versicolor', 'Iris-versicolor',\n",
              "       'Iris-versicolor', 'Iris-versicolor', 'Iris-versicolor',\n",
              "       'Iris-versicolor', 'Iris-versicolor', 'Iris-versicolor',\n",
              "       'Iris-versicolor', 'Iris-versicolor', 'Iris-versicolor',\n",
              "       'Iris-versicolor', 'Iris-versicolor', 'Iris-versicolor',\n",
              "       'Iris-versicolor', 'Iris-versicolor', 'Iris-versicolor',\n",
              "       'Iris-versicolor', 'Iris-versicolor', 'Iris-versicolor',\n",
              "       'Iris-versicolor', 'Iris-versicolor', 'Iris-versicolor',\n",
              "       'Iris-versicolor', 'Iris-versicolor', 'Iris-versicolor',\n",
              "       'Iris-versicolor', 'Iris-versicolor', 'Iris-versicolor'],\n",
              "      dtype=object)"
            ]
          },
          "metadata": {},
          "execution_count": 4
        }
      ],
      "source": [
        "# make y for 100 data instances (setosa and versicolor)\n",
        "y = df.iloc[:100, 4].values\n",
        "y"
      ]
    },
    {
      "cell_type": "code",
      "source": [
        "y = df.iloc[:100, 4].values\n",
        "y = np.where(y == 'Iris-setosa', -1, 1).astype(float)"
      ],
      "metadata": {
        "id": "-UdMAW_tgHKY"
      },
      "id": "-UdMAW_tgHKY",
      "execution_count": 5,
      "outputs": []
    },
    {
      "cell_type": "code",
      "source": [
        "y"
      ],
      "metadata": {
        "colab": {
          "base_uri": "https://localhost:8080/"
        },
        "id": "wjLmCdMHhzP0",
        "outputId": "458abae2-4a7e-407f-fb50-ac3c26b63de7"
      },
      "id": "wjLmCdMHhzP0",
      "execution_count": 6,
      "outputs": [
        {
          "output_type": "execute_result",
          "data": {
            "text/plain": [
              "array([-1., -1., -1., -1., -1., -1., -1., -1., -1., -1., -1., -1., -1.,\n",
              "       -1., -1., -1., -1., -1., -1., -1., -1., -1., -1., -1., -1., -1.,\n",
              "       -1., -1., -1., -1., -1., -1., -1., -1., -1., -1., -1., -1., -1.,\n",
              "       -1., -1., -1., -1., -1., -1., -1., -1., -1., -1., -1.,  1.,  1.,\n",
              "        1.,  1.,  1.,  1.,  1.,  1.,  1.,  1.,  1.,  1.,  1.,  1.,  1.,\n",
              "        1.,  1.,  1.,  1.,  1.,  1.,  1.,  1.,  1.,  1.,  1.,  1.,  1.,\n",
              "        1.,  1.,  1.,  1.,  1.,  1.,  1.,  1.,  1.,  1.,  1.,  1.,  1.,\n",
              "        1.,  1.,  1.,  1.,  1.,  1.,  1.,  1.,  1.])"
            ]
          },
          "metadata": {},
          "execution_count": 6
        }
      ]
    },
    {
      "cell_type": "code",
      "execution_count": 7,
      "id": "2591f688-8a23-4bd2-8011-e20521c1ccbb",
      "metadata": {
        "colab": {
          "base_uri": "https://localhost:8080/"
        },
        "id": "2591f688-8a23-4bd2-8011-e20521c1ccbb",
        "outputId": "4dfe847a-f17c-44a3-a6ed-628e2cb1faa8"
      },
      "outputs": [
        {
          "output_type": "execute_result",
          "data": {
            "text/plain": [
              "array([[5.1, 1.4],\n",
              "       [4.9, 1.4],\n",
              "       [4.7, 1.3],\n",
              "       [4.6, 1.5],\n",
              "       [5. , 1.4],\n",
              "       [5.4, 1.7],\n",
              "       [4.6, 1.4],\n",
              "       [5. , 1.5],\n",
              "       [4.4, 1.4],\n",
              "       [4.9, 1.5],\n",
              "       [5.4, 1.5],\n",
              "       [4.8, 1.6],\n",
              "       [4.8, 1.4],\n",
              "       [4.3, 1.1],\n",
              "       [5.8, 1.2],\n",
              "       [5.7, 1.5],\n",
              "       [5.4, 1.3],\n",
              "       [5.1, 1.4],\n",
              "       [5.7, 1.7],\n",
              "       [5.1, 1.5],\n",
              "       [5.4, 1.7],\n",
              "       [5.1, 1.5],\n",
              "       [4.6, 1. ],\n",
              "       [5.1, 1.7],\n",
              "       [4.8, 1.9],\n",
              "       [5. , 1.6],\n",
              "       [5. , 1.6],\n",
              "       [5.2, 1.5],\n",
              "       [5.2, 1.4],\n",
              "       [4.7, 1.6],\n",
              "       [4.8, 1.6],\n",
              "       [5.4, 1.5],\n",
              "       [5.2, 1.5],\n",
              "       [5.5, 1.4],\n",
              "       [4.9, 1.5],\n",
              "       [5. , 1.2],\n",
              "       [5.5, 1.3],\n",
              "       [4.9, 1.5],\n",
              "       [4.4, 1.3],\n",
              "       [5.1, 1.5],\n",
              "       [5. , 1.3],\n",
              "       [4.5, 1.3],\n",
              "       [4.4, 1.3],\n",
              "       [5. , 1.6],\n",
              "       [5.1, 1.9],\n",
              "       [4.8, 1.4],\n",
              "       [5.1, 1.6],\n",
              "       [4.6, 1.4],\n",
              "       [5.3, 1.5],\n",
              "       [5. , 1.4],\n",
              "       [7. , 4.7],\n",
              "       [6.4, 4.5],\n",
              "       [6.9, 4.9],\n",
              "       [5.5, 4. ],\n",
              "       [6.5, 4.6],\n",
              "       [5.7, 4.5],\n",
              "       [6.3, 4.7],\n",
              "       [4.9, 3.3],\n",
              "       [6.6, 4.6],\n",
              "       [5.2, 3.9],\n",
              "       [5. , 3.5],\n",
              "       [5.9, 4.2],\n",
              "       [6. , 4. ],\n",
              "       [6.1, 4.7],\n",
              "       [5.6, 3.6],\n",
              "       [6.7, 4.4],\n",
              "       [5.6, 4.5],\n",
              "       [5.8, 4.1],\n",
              "       [6.2, 4.5],\n",
              "       [5.6, 3.9],\n",
              "       [5.9, 4.8],\n",
              "       [6.1, 4. ],\n",
              "       [6.3, 4.9],\n",
              "       [6.1, 4.7],\n",
              "       [6.4, 4.3],\n",
              "       [6.6, 4.4],\n",
              "       [6.8, 4.8],\n",
              "       [6.7, 5. ],\n",
              "       [6. , 4.5],\n",
              "       [5.7, 3.5],\n",
              "       [5.5, 3.8],\n",
              "       [5.5, 3.7],\n",
              "       [5.8, 3.9],\n",
              "       [6. , 5.1],\n",
              "       [5.4, 4.5],\n",
              "       [6. , 4.5],\n",
              "       [6.7, 4.7],\n",
              "       [6.3, 4.4],\n",
              "       [5.6, 4.1],\n",
              "       [5.5, 4. ],\n",
              "       [5.5, 4.4],\n",
              "       [6.1, 4.6],\n",
              "       [5.8, 4. ],\n",
              "       [5. , 3.3],\n",
              "       [5.6, 4.2],\n",
              "       [5.7, 4.2],\n",
              "       [5.7, 4.2],\n",
              "       [6.2, 4.3],\n",
              "       [5.1, 3. ],\n",
              "       [5.7, 4.1]])"
            ]
          },
          "metadata": {},
          "execution_count": 7
        }
      ],
      "source": [
        "# extract sepal length and petal length\n",
        "X = df.iloc[:100, [0, 2]].values\n",
        "X"
      ]
    },
    {
      "cell_type": "markdown",
      "id": "76b6dced-08ab-4b70-b7c8-4a399e08897f",
      "metadata": {
        "id": "76b6dced-08ab-4b70-b7c8-4a399e08897f"
      },
      "source": [
        "### Plotting the data"
      ]
    },
    {
      "cell_type": "code",
      "execution_count": 8,
      "id": "b4a5bc8a-8208-49e4-b34e-a85060c894f3",
      "metadata": {
        "colab": {
          "base_uri": "https://localhost:8080/",
          "height": 449
        },
        "id": "b4a5bc8a-8208-49e4-b34e-a85060c894f3",
        "outputId": "d50738d1-0d72-4b2b-e8d5-e293ca6ec1f2"
      },
      "outputs": [
        {
          "output_type": "display_data",
          "data": {
            "text/plain": [
              "<Figure size 640x480 with 1 Axes>"
            ],
            "image/png": "[encoded data removed]"
          },
          "metadata": {}
        }
      ],
      "source": [
        "# plotting data\n",
        "plt.scatter(X[:50, 0], X[:50, 1],\n",
        "            color='red', marker='o', label='setosa')\n",
        "plt.scatter(X[50:100, 0], X[50:100, 1],\n",
        "            color='blue', marker='x', label='versicolor')\n",
        "\n",
        "plt.xlabel('sepal length [cm]')\n",
        "plt.ylabel('petal length [cm]')\n",
        "plt.legend(loc='upper left')\n",
        "plt.show()"
      ]
    },
    {
      "cell_type": "markdown",
      "id": "cbdbbb7b-7ff0-473d-b64e-b0a18bac98ad",
      "metadata": {
        "id": "cbdbbb7b-7ff0-473d-b64e-b0a18bac98ad"
      },
      "source": [
        "### Define Perceptron Class"
      ]
    },
    {
      "cell_type": "code",
      "execution_count": 9,
      "id": "5c19229d-9557-4260-bd1e-bf4fef63302f",
      "metadata": {
        "tags": [],
        "id": "5c19229d-9557-4260-bd1e-bf4fef63302f"
      },
      "outputs": [],
      "source": [
        "class Perceptron(object):\n",
        "    def __init__(self, eta=0.01, n_iter=50, random_state=1):\n",
        "        self.eta = eta # learning rate\n",
        "        self.n_iter = n_iter # number of iteration\n",
        "        self.random_state = random_state # random generator seed for random weight\n",
        "\n",
        "        # weight initiailization\n",
        "        rgen = np.random.RandomState(self.random_state)\n",
        "        self.w_ = rgen.normal(loc=0.0, scale=0.01, size=1 + X.shape[1])\n",
        "\n",
        "    def fit(self, X, y):\n",
        "        self.errors_ = []\n",
        "        for _ in range(self.n_iter):\n",
        "            errors = 0\n",
        "            for xi, target in zip(X, y):\n",
        "\n",
        "                ####################################################\n",
        "                # wj = wj +  eta * (y - yhat) * xj\n",
        "                update = self.eta * (target - self.predict(xi))\n",
        "                self.w_[1:] += update * xi\n",
        "                self.w_[0] += update\n",
        "\n",
        "                errors += int(update != 0.0)\n",
        "                ####################################################\n",
        "            self.errors_.append(errors)\n",
        "            print(self.w_)\n",
        "\n",
        "        return self\n",
        "\n",
        "    def net_input(self, X):\n",
        "        return np.dot(X, self.w_[1:]) + self.w_[0]\n",
        "\n",
        "    def predict(self, X):\n",
        "        return np.where(self.net_input(X) >= 0.0, 1, -1)"
      ]
    },
    {
      "cell_type": "markdown",
      "id": "0695c5ad-f506-46fd-8afe-75147cc48c20",
      "metadata": {
        "id": "0695c5ad-f506-46fd-8afe-75147cc48c20"
      },
      "source": [
        "### Training a perceptron model\n",
        "- Training Perceptron with learning rate 0.1\n",
        "- Plotting the number of error graph\n",
        "- Visualizing the model using given decision regions function"
      ]
    },
    {
      "cell_type": "code",
      "execution_count": 10,
      "id": "68969cc2-44ed-4204-8e29-8fcb85114ef1",
      "metadata": {
        "colab": {
          "base_uri": "https://localhost:8080/"
        },
        "id": "68969cc2-44ed-4204-8e29-8fcb85114ef1",
        "outputId": "6556c08c-afeb-4e51-d0cb-602354b4b5bd"
      },
      "outputs": [
        {
          "output_type": "execute_result",
          "data": {
            "text/plain": [
              "(100, 2)"
            ]
          },
          "metadata": {},
          "execution_count": 10
        }
      ],
      "source": [
        "X.shape"
      ]
    },
    {
      "cell_type": "code",
      "execution_count": 11,
      "id": "8850da92-bbd8-4d35-b1a2-77628baf49c3",
      "metadata": {
        "colab": {
          "base_uri": "https://localhost:8080/"
        },
        "id": "8850da92-bbd8-4d35-b1a2-77628baf49c3",
        "outputId": "d61faa8a-129a-49f2-8a7b-797734d4db7a"
      },
      "outputs": [
        {
          "output_type": "execute_result",
          "data": {
            "text/plain": [
              "(100,)"
            ]
          },
          "metadata": {},
          "execution_count": 11
        }
      ],
      "source": [
        "y.shape"
      ]
    },
    {
      "cell_type": "code",
      "execution_count": 12,
      "id": "28cb62ab-8142-435f-a939-a1ed28a728a8",
      "metadata": {
        "colab": {
          "base_uri": "https://localhost:8080/",
          "height": 1000
        },
        "id": "28cb62ab-8142-435f-a939-a1ed28a728a8",
        "outputId": "e05c0d28-6662-4292-d0e8-3f203b797d64"
      },
      "outputs": [
        {
          "output_type": "stream",
          "name": "stdout",
          "text": [
            "[0.03624345 0.13388244 0.08871828]\n",
            "[0.01624345 0.07388244 0.12671828]\n",
            "[-0.00375655  0.01988244  0.16271828]\n",
            "[-0.00375655  0.03188244  0.20471828]\n",
            "[-0.02375655 -0.07011756  0.17671828]\n",
            "[-0.02375655 -0.07011756  0.17671828]\n",
            "[-0.02375655 -0.07011756  0.17671828]\n",
            "[-0.02375655 -0.07011756  0.17671828]\n",
            "[-0.02375655 -0.07011756  0.17671828]\n",
            "[-0.02375655 -0.07011756  0.17671828]\n",
            "[-0.02375655 -0.07011756  0.17671828]\n",
            "[-0.02375655 -0.07011756  0.17671828]\n",
            "[-0.02375655 -0.07011756  0.17671828]\n",
            "[-0.02375655 -0.07011756  0.17671828]\n",
            "[-0.02375655 -0.07011756  0.17671828]\n",
            "[-0.02375655 -0.07011756  0.17671828]\n",
            "[-0.02375655 -0.07011756  0.17671828]\n",
            "[-0.02375655 -0.07011756  0.17671828]\n",
            "[-0.02375655 -0.07011756  0.17671828]\n",
            "[-0.02375655 -0.07011756  0.17671828]\n",
            "[-0.02375655 -0.07011756  0.17671828]\n",
            "[-0.02375655 -0.07011756  0.17671828]\n",
            "[-0.02375655 -0.07011756  0.17671828]\n",
            "[-0.02375655 -0.07011756  0.17671828]\n",
            "[-0.02375655 -0.07011756  0.17671828]\n",
            "[-0.02375655 -0.07011756  0.17671828]\n",
            "[-0.02375655 -0.07011756  0.17671828]\n",
            "[-0.02375655 -0.07011756  0.17671828]\n",
            "[-0.02375655 -0.07011756  0.17671828]\n",
            "[-0.02375655 -0.07011756  0.17671828]\n",
            "[-0.02375655 -0.07011756  0.17671828]\n",
            "[-0.02375655 -0.07011756  0.17671828]\n",
            "[-0.02375655 -0.07011756  0.17671828]\n",
            "[-0.02375655 -0.07011756  0.17671828]\n",
            "[-0.02375655 -0.07011756  0.17671828]\n",
            "[-0.02375655 -0.07011756  0.17671828]\n",
            "[-0.02375655 -0.07011756  0.17671828]\n",
            "[-0.02375655 -0.07011756  0.17671828]\n",
            "[-0.02375655 -0.07011756  0.17671828]\n",
            "[-0.02375655 -0.07011756  0.17671828]\n",
            "[-0.02375655 -0.07011756  0.17671828]\n",
            "[-0.02375655 -0.07011756  0.17671828]\n",
            "[-0.02375655 -0.07011756  0.17671828]\n",
            "[-0.02375655 -0.07011756  0.17671828]\n",
            "[-0.02375655 -0.07011756  0.17671828]\n",
            "[-0.02375655 -0.07011756  0.17671828]\n",
            "[-0.02375655 -0.07011756  0.17671828]\n",
            "[-0.02375655 -0.07011756  0.17671828]\n",
            "[-0.02375655 -0.07011756  0.17671828]\n",
            "[-0.02375655 -0.07011756  0.17671828]\n"
          ]
        },
        {
          "output_type": "display_data",
          "data": {
            "text/plain": [
              "<Figure size 640x480 with 1 Axes>"
            ],
            "image/png": "[encoded data removed]"
          },
          "metadata": {}
        }
      ],
      "source": [
        "# Training Perceptron\n",
        "model = Perceptron()\n",
        "\n",
        "model.fit(X, y)\n",
        "\n",
        "# Plotting the number of errors\n",
        "plt.plot(range(1, len(model.errors_) + 1), model.errors_, marker='o')\n",
        "plt.xlabel('Epochs')\n",
        "plt.ylabel('Number of Errors')\n",
        "plt.show()"
      ]
    },
    {
      "cell_type": "code",
      "execution_count": 13,
      "id": "244c2236-ca4d-4e95-a289-d5c9bd166cf2",
      "metadata": {
        "id": "244c2236-ca4d-4e95-a289-d5c9bd166cf2",
        "outputId": "8d3b4d55-cc09-4da1-bc2a-be3e80fc278e",
        "colab": {
          "base_uri": "https://localhost:8080/"
        }
      },
      "outputs": [
        {
          "output_type": "execute_result",
          "data": {
            "text/plain": [
              "array([-1, -1, -1, -1, -1, -1, -1, -1, -1, -1, -1, -1, -1, -1, -1, -1, -1,\n",
              "       -1, -1, -1, -1, -1, -1, -1, -1, -1, -1, -1, -1, -1, -1, -1, -1, -1,\n",
              "       -1, -1, -1, -1, -1, -1, -1, -1, -1, -1, -1, -1, -1, -1, -1, -1,  1,\n",
              "        1,  1,  1,  1,  1,  1,  1,  1,  1,  1,  1,  1,  1,  1,  1,  1,  1,\n",
              "        1,  1,  1,  1,  1,  1,  1,  1,  1,  1,  1,  1,  1,  1,  1,  1,  1,\n",
              "        1,  1,  1,  1,  1,  1,  1,  1,  1,  1,  1,  1,  1,  1,  1])"
            ]
          },
          "metadata": {},
          "execution_count": 13
        }
      ],
      "source": [
        "model.predict(X)"
      ]
    },
    {
      "cell_type": "code",
      "execution_count": 14,
      "id": "243a30f6-dcf0-416f-84fe-fa0aa3d47555",
      "metadata": {
        "tags": [],
        "id": "243a30f6-dcf0-416f-84fe-fa0aa3d47555"
      },
      "outputs": [],
      "source": [
        "# A function for plotting decision regions\n",
        "from matplotlib.colors import ListedColormap\n",
        "\n",
        "def plot_decision_regions(X, y, classifier, resolution=0.02):\n",
        "\n",
        "    # setup marker generator and color map\n",
        "    markers = ('s', 'x', 'o', '^', 'v')\n",
        "    colors = ('red', 'blue', 'lightgreen', 'gray', 'cyan')\n",
        "    cmap = ListedColormap(colors[:len(np.unique(y))])\n",
        "\n",
        "    # plot the decision surface\n",
        "    x1_min, x1_max = X[:, 0].min() - 1, X[:, 0].max() + 1\n",
        "    x2_min, x2_max = X[:, 1].min() - 1, X[:, 1].max() + 1\n",
        "    xx1, xx2 = np.meshgrid(np.arange(x1_min, x1_max, resolution),\n",
        "                           np.arange(x2_min, x2_max, resolution))\n",
        "    Z = classifier.predict(np.array([xx1.ravel(), xx2.ravel()]).T)\n",
        "    Z = Z.reshape(xx1.shape)\n",
        "    plt.contourf(xx1, xx2, Z, alpha=0.3, cmap=cmap)\n",
        "    plt.xlim(xx1.min(), xx1.max())\n",
        "    plt.ylim(xx2.min(), xx2.max())\n",
        "\n",
        "    # plot class samples\n",
        "    for idx, cl in enumerate(np.unique(y)):\n",
        "        plt.scatter(x=X[y == cl, 0],\n",
        "                    y=X[y == cl, 1],\n",
        "                    alpha=0.8,\n",
        "                    c=colors[idx],\n",
        "                    marker=markers[idx],\n",
        "                    label=cl,\n",
        "                    edgecolor='black')"
      ]
    },
    {
      "cell_type": "code",
      "execution_count": 15,
      "id": "8a5ef999-a5d5-4669-a4e7-9e68d6f3a6d6",
      "metadata": {
        "id": "8a5ef999-a5d5-4669-a4e7-9e68d6f3a6d6",
        "outputId": "bc6277b5-a227-4afb-aadf-547a4a2c5a1f",
        "colab": {
          "base_uri": "https://localhost:8080/",
          "height": 506
        }
      },
      "outputs": [
        {
          "output_type": "stream",
          "name": "stderr",
          "text": [
            "<ipython-input-14-6fb4529f1e27>:24: UserWarning: You passed a edgecolor/edgecolors ('black') for an unfilled marker ('x').  Matplotlib is ignoring the edgecolor in favor of the facecolor.  This behavior may change in the future.\n",
            "  plt.scatter(x=X[y == cl, 0],\n"
          ]
        },
        {
          "output_type": "display_data",
          "data": {
            "text/plain": [
              "<Figure size 640x480 with 1 Axes>"
            ],
            "image/png": "[encoded data removed]"
          },
          "metadata": {}
        }
      ],
      "source": [
        "plot_decision_regions(X, y, classifier=model)\n",
        "plt.xlabel('sepal length [cm]')\n",
        "plt.ylabel('petal length [cm]')\n",
        "plt.legend(loc='upper left')\n",
        "plt.show()"
      ]
    },
    {
      "cell_type": "markdown",
      "id": "62de2dcc-a9bd-4985-afdb-f2f985f9a9b5",
      "metadata": {
        "id": "62de2dcc-a9bd-4985-afdb-f2f985f9a9b5"
      },
      "source": [
        "# 2. Adaline : Adaptive Linear Neurons"
      ]
    },
    {
      "cell_type": "markdown",
      "id": "f42eed93-494a-4c07-89bc-1b25a8029a39",
      "metadata": {
        "id": "f42eed93-494a-4c07-89bc-1b25a8029a39"
      },
      "source": [
        "### Define Adaline Class"
      ]
    },
    {
      "cell_type": "code",
      "execution_count": 16,
      "id": "93527510-2459-451d-b10c-a9939f4a8607",
      "metadata": {
        "tags": [],
        "id": "93527510-2459-451d-b10c-a9939f4a8607"
      },
      "outputs": [],
      "source": [
        "class AdalineGD(object):\n",
        "    def __init__(self, eta=0.01, n_iter=50, random_state=1):\n",
        "        self.eta = eta   # learning rate\n",
        "        self.n_iter = n_iter  # number of iteration\n",
        "        self.random_state = random_state\n",
        "\n",
        "        # weight initiailization\n",
        "        rgen = np.random.RandomState(self.random_state)\n",
        "        self.w_ = rgen.normal(loc=0.0, scale=0.01, size=1 + X.shape[1])\n",
        "\n",
        "    def fit(self, X, y):\n",
        "        self.cost_ = []\n",
        "\n",
        "        for i in range(self.n_iter):\n",
        "            net_input = self.net_input(X)\n",
        "            output = self.activation(net_input)\n",
        "\n",
        "            ####################################################\n",
        "            # w = w + eta * (X.T dot errors)\n",
        "            errors = (y - output)\n",
        "            self.w_[1:] += self.eta * X.T.dot(errors)\n",
        "            self.w_[0]  += self.eta * errors.sum()\n",
        "\n",
        "            # compute cost\n",
        "            cost = (errors ** 2).sum() / 2.0\n",
        "            self.cost_.append(cost)\n",
        "            ####################################################\n",
        "            print(self.w_)\n",
        "\n",
        "        return self\n",
        "\n",
        "    def net_input(self, X):\n",
        "        return np.dot(X, self.w_[1:]) + self.w_[0]\n",
        "\n",
        "    def activation(self, X):\n",
        "        return X\n",
        "\n",
        "    def predict(self, X):\n",
        "        return np.where(self.activation(self.net_input(X)) >= 0.0, 1, -1)"
      ]
    },
    {
      "cell_type": "markdown",
      "id": "be52be1b-a609-457c-8889-db0763567ca2",
      "metadata": {
        "id": "be52be1b-a609-457c-8889-db0763567ca2"
      },
      "source": [
        "### Standardize features"
      ]
    },
    {
      "cell_type": "code",
      "execution_count": 17,
      "id": "ec9aba77-6cdb-441a-b268-7d9b1e1ff23e",
      "metadata": {
        "id": "ec9aba77-6cdb-441a-b268-7d9b1e1ff23e",
        "outputId": "20bc08f5-78d7-4192-c6fa-90d3a2ca2e3a",
        "colab": {
          "base_uri": "https://localhost:8080/"
        }
      },
      "outputs": [
        {
          "output_type": "execute_result",
          "data": {
            "text/plain": [
              "array([[-0.5810659 , -1.01435952],\n",
              "       [-0.89430898, -1.01435952],\n",
              "       [-1.20755205, -1.08374115],\n",
              "       [-1.36417359, -0.94497788],\n",
              "       [-0.73768744, -1.01435952],\n",
              "       [-0.11120129, -0.80621461],\n",
              "       [-1.36417359, -1.01435952],\n",
              "       [-0.73768744, -0.94497788],\n",
              "       [-1.67741667, -1.01435952],\n",
              "       [-0.89430898, -0.94497788],\n",
              "       [-0.11120129, -0.94497788],\n",
              "       [-1.05093052, -0.87559625],\n",
              "       [-1.05093052, -1.01435952],\n",
              "       [-1.8340382 , -1.22250442],\n",
              "       [ 0.51528486, -1.15312279],\n",
              "       [ 0.35866332, -0.94497788],\n",
              "       [-0.11120129, -1.08374115],\n",
              "       [-0.5810659 , -1.01435952],\n",
              "       [ 0.35866332, -0.80621461],\n",
              "       [-0.5810659 , -0.94497788],\n",
              "       [-0.11120129, -0.80621461],\n",
              "       [-0.5810659 , -0.94497788],\n",
              "       [-1.36417359, -1.29188606],\n",
              "       [-0.5810659 , -0.80621461],\n",
              "       [-1.05093052, -0.66745134],\n",
              "       [-0.73768744, -0.87559625],\n",
              "       [-0.73768744, -0.87559625],\n",
              "       [-0.42444437, -0.94497788],\n",
              "       [-0.42444437, -1.01435952],\n",
              "       [-1.20755205, -0.87559625],\n",
              "       [-1.05093052, -0.87559625],\n",
              "       [-0.11120129, -0.94497788],\n",
              "       [-0.42444437, -0.94497788],\n",
              "       [ 0.04542025, -1.01435952],\n",
              "       [-0.89430898, -0.94497788],\n",
              "       [-0.73768744, -1.15312279],\n",
              "       [ 0.04542025, -1.08374115],\n",
              "       [-0.89430898, -0.94497788],\n",
              "       [-1.67741667, -1.08374115],\n",
              "       [-0.5810659 , -0.94497788],\n",
              "       [-0.73768744, -1.08374115],\n",
              "       [-1.52079513, -1.08374115],\n",
              "       [-1.67741667, -1.08374115],\n",
              "       [-0.73768744, -0.87559625],\n",
              "       [-0.5810659 , -0.66745134],\n",
              "       [-1.05093052, -1.01435952],\n",
              "       [-0.5810659 , -0.87559625],\n",
              "       [-1.36417359, -1.01435952],\n",
              "       [-0.26782283, -0.94497788],\n",
              "       [-0.73768744, -1.01435952],\n",
              "       [ 2.39474331,  1.27523447],\n",
              "       [ 1.45501408,  1.1364712 ],\n",
              "       [ 2.23812177,  1.41399774],\n",
              "       [ 0.04542025,  0.78956302],\n",
              "       [ 1.61163562,  1.20585283],\n",
              "       [ 0.35866332,  1.1364712 ],\n",
              "       [ 1.29839254,  1.27523447],\n",
              "       [-0.89430898,  0.30389157],\n",
              "       [ 1.76825716,  1.20585283],\n",
              "       [-0.42444437,  0.72018138],\n",
              "       [-0.73768744,  0.44265484],\n",
              "       [ 0.6719064 ,  0.92832629],\n",
              "       [ 0.82852793,  0.78956302],\n",
              "       [ 0.98514947,  1.27523447],\n",
              "       [ 0.20204178,  0.51203647],\n",
              "       [ 1.92487869,  1.06708956],\n",
              "       [ 0.20204178,  1.1364712 ],\n",
              "       [ 0.51528486,  0.85894465],\n",
              "       [ 1.14177101,  1.1364712 ],\n",
              "       [ 0.20204178,  0.72018138],\n",
              "       [ 0.6719064 ,  1.3446161 ],\n",
              "       [ 0.98514947,  0.78956302],\n",
              "       [ 1.29839254,  1.41399774],\n",
              "       [ 0.98514947,  1.27523447],\n",
              "       [ 1.45501408,  0.99770792],\n",
              "       [ 1.76825716,  1.06708956],\n",
              "       [ 2.08150023,  1.3446161 ],\n",
              "       [ 1.92487869,  1.48337938],\n",
              "       [ 0.82852793,  1.1364712 ],\n",
              "       [ 0.35866332,  0.44265484],\n",
              "       [ 0.04542025,  0.65079974],\n",
              "       [ 0.04542025,  0.58141811],\n",
              "       [ 0.51528486,  0.72018138],\n",
              "       [ 0.82852793,  1.55276101],\n",
              "       [-0.11120129,  1.1364712 ],\n",
              "       [ 0.82852793,  1.1364712 ],\n",
              "       [ 1.92487869,  1.27523447],\n",
              "       [ 1.29839254,  1.06708956],\n",
              "       [ 0.20204178,  0.85894465],\n",
              "       [ 0.04542025,  0.78956302],\n",
              "       [ 0.04542025,  1.06708956],\n",
              "       [ 0.98514947,  1.20585283],\n",
              "       [ 0.51528486,  0.78956302],\n",
              "       [-0.73768744,  0.30389157],\n",
              "       [ 0.20204178,  0.92832629],\n",
              "       [ 0.35866332,  0.92832629],\n",
              "       [ 0.35866332,  0.92832629],\n",
              "       [ 1.14177101,  0.99770792],\n",
              "       [-0.5810659 ,  0.09574666],\n",
              "       [ 0.35866332,  0.85894465]])"
            ]
          },
          "metadata": {},
          "execution_count": 17
        }
      ],
      "source": [
        "# standardizing features\n",
        "X_std = np.copy(X)\n",
        "X_std[:, 0] = (X[:, 0] - X[:, 0].mean()) / X[:, 0].std()\n",
        "X_std[:, 1] = (X[:, 1] - X[:, 1].mean()) / X[:, 1].std()\n",
        "X_std"
      ]
    },
    {
      "cell_type": "markdown",
      "id": "3f6628b3-dffd-4b64-945b-a5e992ed20fc",
      "metadata": {
        "id": "3f6628b3-dffd-4b64-945b-a5e992ed20fc"
      },
      "source": [
        "### Training an Adaline model on the iris dataset\n",
        "- Training AdalineGD with learning rate 0.1, 0.0001, and 0.01\n",
        "- Plotting the cost graph\n",
        "- Visualizing the model using given decision regions function\n",
        "- Computing the accuracy of the model"
      ]
    },
    {
      "cell_type": "code",
      "execution_count": 18,
      "id": "58148ee5-0d58-41d5-b034-0b8a32e24ab6",
      "metadata": {
        "id": "58148ee5-0d58-41d5-b034-0b8a32e24ab6",
        "outputId": "5f8dd2ee-f7cf-408a-c3cc-6cd822e5a861",
        "colab": {
          "base_uri": "https://localhost:8080/"
        }
      },
      "outputs": [
        {
          "output_type": "execute_result",
          "data": {
            "text/plain": [
              "(100, 2)"
            ]
          },
          "metadata": {},
          "execution_count": 18
        }
      ],
      "source": [
        "X_std.shape"
      ]
    },
    {
      "cell_type": "code",
      "execution_count": 19,
      "id": "b763d24e-c2b5-4279-9cde-44c51c12f07e",
      "metadata": {
        "scrolled": true,
        "id": "b763d24e-c2b5-4279-9cde-44c51c12f07e",
        "outputId": "860aeb5d-a3ad-4050-93ea-89ed35530793",
        "colab": {
          "base_uri": "https://localhost:8080/"
        }
      },
      "outputs": [
        {
          "output_type": "execute_result",
          "data": {
            "text/plain": [
              "(100,)"
            ]
          },
          "metadata": {},
          "execution_count": 19
        }
      ],
      "source": [
        "y.shape"
      ]
    },
    {
      "cell_type": "code",
      "execution_count": 20,
      "id": "02886980-3022-496a-861c-e11f0ee5097d",
      "metadata": {
        "id": "02886980-3022-496a-861c-e11f0ee5097d",
        "outputId": "1317ebd8-3b23-42a8-abd2-805903ef4c8d",
        "colab": {
          "base_uri": "https://localhost:8080/"
        }
      },
      "outputs": [
        {
          "output_type": "stream",
          "name": "stdout",
          "text": [
            "[-0.14619108  7.38086767  9.79678659]\n",
            "[   1.31571974 -138.73294518 -138.43289951]\n",
            "[ -11.8414777  2380.49335345 2382.64713229]\n",
            "[   106.57329931 -40773.52560914 -40772.99590048]\n",
            "[  -959.15969379 698204.43463095 698206.38720024]\n",
            "[ 8.63243724e+03 -1.19559860e+07 -1.19559853e+07]\n",
            "[-7.76919352e+04  2.04733017e+08  2.04733018e+08]\n",
            "[ 6.99227417e+05 -3.50582610e+09 -3.50582610e+09]\n",
            "[-6.29304675e+06  6.00333881e+10  6.00333881e+10]\n",
            "[ 5.66374208e+07 -1.02800526e+12 -1.02800526e+12]\n"
          ]
        },
        {
          "output_type": "execute_result",
          "data": {
            "text/plain": [
              "<__main__.AdalineGD at 0x7fca5878e470>"
            ]
          },
          "metadata": {},
          "execution_count": 20
        }
      ],
      "source": [
        "# Training AdalineGD with learning rate 0.1\n",
        "ada1 = AdalineGD(n_iter=10, eta=0.1)\n",
        "ada1.fit(X_std, y)"
      ]
    },
    {
      "cell_type": "code",
      "execution_count": 21,
      "id": "a4b65656-fc23-4922-99fc-e7cfe35a449e",
      "metadata": {
        "id": "a4b65656-fc23-4922-99fc-e7cfe35a449e",
        "outputId": "7ad3a009-17b2-4527-c4d9-998ef3ac2386",
        "colab": {
          "base_uri": "https://localhost:8080/"
        }
      },
      "outputs": [
        {
          "output_type": "stream",
          "name": "stdout",
          "text": [
            "[0.01608102 0.00126942 0.00452035]\n",
            "[0.01592021 0.00850291 0.01416439]\n",
            "[0.01576101 0.01558571 0.02365322]\n",
            "[0.0156034  0.0225206  0.03298962]\n",
            "[0.01544736 0.02931029 0.04217632]\n",
            "[0.01529289 0.03595745 0.051216  ]\n",
            "[0.01513996 0.0424647  0.06011128]\n",
            "[0.01498856 0.04883462 0.06886474]\n",
            "[0.01483868 0.05506973 0.07747892]\n",
            "[0.01469029 0.0611725  0.0859563 ]\n"
          ]
        },
        {
          "output_type": "execute_result",
          "data": {
            "text/plain": [
              "<__main__.AdalineGD at 0x7fca5878e110>"
            ]
          },
          "metadata": {},
          "execution_count": 21
        }
      ],
      "source": [
        "# Training AdalineGD with learning rate 0.0001\n",
        "ada2 = AdalineGD(n_iter=10, eta=0.0001)\n",
        "ada2.fit(X_std, y)"
      ]
    },
    {
      "cell_type": "code",
      "execution_count": 22,
      "id": "ea6ca3a8-c9b3-46b9-b4c7-8d818e677281",
      "metadata": {
        "scrolled": true,
        "id": "ea6ca3a8-c9b3-46b9-b4c7-8d818e677281",
        "outputId": "153c76f2-b29f-482f-c279-d4642e2e85ed",
        "colab": {
          "base_uri": "https://localhost:8080/",
          "height": 410
        }
      },
      "outputs": [
        {
          "output_type": "display_data",
          "data": {
            "text/plain": [
              "<Figure size 1000x400 with 2 Axes>"
            ],
            "image/png": "[encoded data removed]"
          },
          "metadata": {}
        }
      ],
      "source": [
        "# Plotting cost\n",
        "fig, ax = plt.subplots(nrows=1, ncols=2, figsize=(10, 4))\n",
        "\n",
        "ax[0].plot(range(1, len(ada1.cost_) + 1), np.log10(ada1.cost_), marker='o')\n",
        "ax[0].set_xlabel('Epochs')\n",
        "ax[0].set_ylabel('log(Sum-squared-error)')\n",
        "ax[0].set_title('Adaline - Learning rate 0.1')\n",
        "\n",
        "ax[1].plot(range(1, len(ada2.cost_) + 1), ada2.cost_, marker='o')\n",
        "ax[1].set_xlabel('Epochs')\n",
        "ax[1].set_ylabel('Sum-squared-error')\n",
        "ax[1].set_title('Adaline - Learning rate 0.0001')\n",
        "\n",
        "plt.show()"
      ]
    },
    {
      "cell_type": "code",
      "execution_count": 23,
      "id": "c5d24255-82a2-4223-933c-78687b8077bd",
      "metadata": {
        "scrolled": true,
        "id": "c5d24255-82a2-4223-933c-78687b8077bd",
        "outputId": "c4cb8cbe-c4aa-4f3f-e144-7f831215048f",
        "colab": {
          "base_uri": "https://localhost:8080/"
        }
      },
      "outputs": [
        {
          "output_type": "execute_result",
          "data": {
            "text/plain": [
              "array([-1., -1., -1., -1., -1., -1., -1., -1., -1., -1., -1., -1., -1.,\n",
              "       -1., -1., -1., -1., -1., -1., -1., -1., -1., -1., -1., -1., -1.,\n",
              "       -1., -1., -1., -1., -1., -1., -1., -1., -1., -1., -1., -1., -1.,\n",
              "       -1., -1., -1., -1., -1., -1., -1., -1., -1., -1., -1.,  1.,  1.,\n",
              "        1.,  1.,  1.,  1.,  1.,  1.,  1.,  1.,  1.,  1.,  1.,  1.,  1.,\n",
              "        1.,  1.,  1.,  1.,  1.,  1.,  1.,  1.,  1.,  1.,  1.,  1.,  1.,\n",
              "        1.,  1.,  1.,  1.,  1.,  1.,  1.,  1.,  1.,  1.,  1.,  1.,  1.,\n",
              "        1.,  1.,  1.,  1.,  1.,  1.,  1.,  1.,  1.])"
            ]
          },
          "metadata": {},
          "execution_count": 23
        }
      ],
      "source": [
        "y"
      ]
    },
    {
      "cell_type": "code",
      "execution_count": 24,
      "id": "05a13104-5797-4f5f-8c7d-9cc6fb618cc2",
      "metadata": {
        "id": "05a13104-5797-4f5f-8c7d-9cc6fb618cc2",
        "outputId": "3eae326c-0ac6-4557-bac6-dce0409a7e7f",
        "colab": {
          "base_uri": "https://localhost:8080/"
        }
      },
      "outputs": [
        {
          "output_type": "execute_result",
          "data": {
            "text/plain": [
              "array([ 1,  1,  1,  1,  1,  1,  1,  1,  1,  1,  1,  1,  1,  1,  1,  1,  1,\n",
              "        1,  1,  1,  1,  1,  1,  1,  1,  1,  1,  1,  1,  1,  1,  1,  1,  1,\n",
              "        1,  1,  1,  1,  1,  1,  1,  1,  1,  1,  1,  1,  1,  1,  1,  1, -1,\n",
              "       -1, -1, -1, -1, -1, -1,  1, -1, -1,  1, -1, -1, -1, -1, -1, -1, -1,\n",
              "       -1, -1, -1, -1, -1, -1, -1, -1, -1, -1, -1, -1, -1, -1, -1, -1, -1,\n",
              "       -1, -1, -1, -1, -1, -1, -1, -1,  1, -1, -1, -1, -1,  1, -1])"
            ]
          },
          "metadata": {},
          "execution_count": 24
        }
      ],
      "source": [
        "ada1.predict(X_std)"
      ]
    },
    {
      "cell_type": "code",
      "execution_count": 25,
      "id": "dee8243b-438b-4136-b7a8-05024c6271c3",
      "metadata": {
        "id": "dee8243b-438b-4136-b7a8-05024c6271c3",
        "outputId": "5281ae38-843b-4069-b277-b9d8c9e9b44e",
        "colab": {
          "base_uri": "https://localhost:8080/"
        }
      },
      "outputs": [
        {
          "output_type": "execute_result",
          "data": {
            "text/plain": [
              "array([-1, -1, -1, -1, -1, -1, -1, -1, -1, -1, -1, -1, -1, -1, -1, -1, -1,\n",
              "       -1, -1, -1, -1, -1, -1, -1, -1, -1, -1, -1, -1, -1, -1, -1, -1, -1,\n",
              "       -1, -1, -1, -1, -1, -1, -1, -1, -1, -1, -1, -1, -1, -1, -1, -1,  1,\n",
              "        1,  1,  1,  1,  1,  1, -1,  1,  1,  1,  1,  1,  1,  1,  1,  1,  1,\n",
              "        1,  1,  1,  1,  1,  1,  1,  1,  1,  1,  1,  1,  1,  1,  1,  1,  1,\n",
              "        1,  1,  1,  1,  1,  1,  1,  1, -1,  1,  1,  1,  1, -1,  1])"
            ]
          },
          "metadata": {},
          "execution_count": 25
        }
      ],
      "source": [
        "ada2.predict(X_std)"
      ]
    },
    {
      "cell_type": "code",
      "execution_count": 26,
      "id": "586f2a6e-32b5-4e93-8110-360c67662727",
      "metadata": {
        "id": "586f2a6e-32b5-4e93-8110-360c67662727",
        "outputId": "895bec84-f31a-4382-dea1-a49f410699e7",
        "colab": {
          "base_uri": "https://localhost:8080/"
        }
      },
      "outputs": [
        {
          "output_type": "stream",
          "name": "stdout",
          "text": [
            "[0.         0.73258096 0.97492511]\n",
            "[ 1.49436019e-15 -6.37284985e-02  3.74814400e-01]\n",
            "[3.55271368e-17 4.23794973e-01 1.02172761e+00]\n",
            "[ 1.04138920e-15 -1.01750346e-01  6.25668805e-01]\n",
            "[7.54951657e-17 2.20003559e-01 1.05261615e+00]\n",
            "[ 7.73825448e-16 -1.26843862e-01  7.91226751e-01]\n",
            "[9.54791801e-17 8.55060696e-02 1.07300186e+00]\n",
            "[ 5.85087534e-16 -1.43404986e-01  9.00491061e-01]\n",
            "[ 1.17683641e-16 -3.25907753e-03  1.08645593e+00]\n",
            "[ 3.39728246e-16 -1.54334935e-01  9.72602910e-01]\n"
          ]
        },
        {
          "output_type": "execute_result",
          "data": {
            "text/plain": [
              "<__main__.AdalineGD at 0x7fca587c5d80>"
            ]
          },
          "metadata": {},
          "execution_count": 26
        }
      ],
      "source": [
        "# Training AdalineGD with learning rate 0.01\n",
        "ada = AdalineGD(n_iter=10, eta=0.01)\n",
        "ada.fit(X_std, y)"
      ]
    },
    {
      "cell_type": "code",
      "execution_count": 27,
      "id": "3cd3fb67-bafd-40a9-8ee4-e869e5b4c38a",
      "metadata": {
        "id": "3cd3fb67-bafd-40a9-8ee4-e869e5b4c38a",
        "outputId": "31c9661c-c1a1-4c7c-e6a8-b8adfdd956c9",
        "colab": {
          "base_uri": "https://localhost:8080/",
          "height": 449
        }
      },
      "outputs": [
        {
          "output_type": "display_data",
          "data": {
            "text/plain": [
              "<Figure size 640x480 with 1 Axes>"
            ],
            "image/png": "[encoded data removed]"
          },
          "metadata": {}
        }
      ],
      "source": [
        "# Plotting cost\n",
        "plt.plot(range(1, len(ada.cost_) + 1), ada.cost_, marker='o')\n",
        "plt.xlabel('Epochs')\n",
        "plt.ylabel('Sum-squared-error')\n",
        "plt.show()"
      ]
    },
    {
      "cell_type": "code",
      "execution_count": 28,
      "id": "aa46fd61-78df-4857-8e9e-cef7aa07a9e3",
      "metadata": {
        "id": "aa46fd61-78df-4857-8e9e-cef7aa07a9e3",
        "outputId": "fd0f941d-980b-48a1-93b6-34283a7615db",
        "colab": {
          "base_uri": "https://localhost:8080/"
        }
      },
      "outputs": [
        {
          "output_type": "execute_result",
          "data": {
            "text/plain": [
              "array([-1, -1, -1, -1, -1, -1, -1, -1, -1, -1, -1, -1, -1, -1, -1, -1, -1,\n",
              "       -1, -1, -1, -1, -1, -1, -1, -1, -1, -1, -1, -1, -1, -1, -1, -1, -1,\n",
              "       -1, -1, -1, -1, -1, -1, -1, -1, -1, -1, -1, -1, -1, -1, -1, -1,  1,\n",
              "        1,  1,  1,  1,  1,  1,  1,  1,  1,  1,  1,  1,  1,  1,  1,  1,  1,\n",
              "        1,  1,  1,  1,  1,  1,  1,  1,  1,  1,  1,  1,  1,  1,  1,  1,  1,\n",
              "        1,  1,  1,  1,  1,  1,  1,  1,  1,  1,  1,  1,  1,  1,  1])"
            ]
          },
          "metadata": {},
          "execution_count": 28
        }
      ],
      "source": [
        "ada.predict(X_std)"
      ]
    },
    {
      "cell_type": "code",
      "execution_count": 29,
      "id": "bffcee7c-f737-45d1-bde1-800a463123e0",
      "metadata": {
        "id": "bffcee7c-f737-45d1-bde1-800a463123e0",
        "outputId": "24e9c0b9-81e0-4f43-de9f-65f9cfabb220",
        "colab": {
          "base_uri": "https://localhost:8080/",
          "height": 528
        }
      },
      "outputs": [
        {
          "output_type": "stream",
          "name": "stderr",
          "text": [
            "<ipython-input-14-6fb4529f1e27>:24: UserWarning: You passed a edgecolor/edgecolors ('black') for an unfilled marker ('x').  Matplotlib is ignoring the edgecolor in favor of the facecolor.  This behavior may change in the future.\n",
            "  plt.scatter(x=X[y == cl, 0],\n"
          ]
        },
        {
          "output_type": "display_data",
          "data": {
            "text/plain": [
              "<Figure size 640x480 with 1 Axes>"
            ],
            "image/png": "[encoded data removed]"
          },
          "metadata": {}
        }
      ],
      "source": [
        "plot_decision_regions(X_std, y, classifier=ada)\n",
        "plt.title('Adaline - Gradient Descent')\n",
        "plt.xlabel('sepal length [standardized]')\n",
        "plt.ylabel('petal length [standardized]')\n",
        "plt.legend(loc='upper left')\n",
        "plt.show()"
      ]
    },
    {
      "cell_type": "code",
      "execution_count": 30,
      "id": "87927b4a-2b8a-4d94-b5da-268b0be028d3",
      "metadata": {
        "scrolled": true,
        "id": "87927b4a-2b8a-4d94-b5da-268b0be028d3",
        "outputId": "57ec4d0a-a457-48d2-89bf-8e8307f83204",
        "colab": {
          "base_uri": "https://localhost:8080/"
        }
      },
      "outputs": [
        {
          "output_type": "stream",
          "name": "stdout",
          "text": [
            "Accuracy on the training set = 1.0\n"
          ]
        }
      ],
      "source": [
        "# Computing the accuracy of the model\n",
        "from sklearn.metrics import accuracy_score\n",
        "\n",
        "y_pred = ada.predict(X_std)\n",
        "accuracy = accuracy_score(y, y_pred)\n",
        "print(\"Accuracy on the training set =\", accuracy)"
      ]
    },
    {
      "cell_type": "markdown",
      "id": "fca2e618-db19-4506-8cac-93d97940a01b",
      "metadata": {
        "id": "fca2e618-db19-4506-8cac-93d97940a01b"
      },
      "source": [
        "# 3. Adaline with Stochastic Gradient Descent"
      ]
    },
    {
      "cell_type": "markdown",
      "id": "f5d76c67-670a-4691-b413-c47792f1055d",
      "metadata": {
        "id": "f5d76c67-670a-4691-b413-c47792f1055d"
      },
      "source": [
        "- Large scale machine learning and Stochastic Gradient Descent\n",
        "    - (Batch) Gradient Descent\n",
        "        - Run through all the samples in training set to do a single update for a parameter in a particular iteration\n",
        "        - This is so inefficient when dealing with large scale dataset because in every iteration when you are updating the values of the parameters, you are running through the complete training set\n",
        "\n",
        "    - Stochastic Gradient Descent\n",
        "        - Use only 1 or subset of training sample from your training set to do the update for a parameter in a particular iteration\n",
        "            - Use 1 → Stochastic Gradient Descent\n",
        "            - Use subset → Mini-batch Stochastic Gradient Descent\n"
      ]
    },
    {
      "cell_type": "markdown",
      "id": "c34647cc-21b4-420f-824a-d8b346bb311d",
      "metadata": {
        "id": "c34647cc-21b4-420f-824a-d8b346bb311d"
      },
      "source": [
        "### Define AdalineSGD Class"
      ]
    },
    {
      "cell_type": "code",
      "execution_count": 31,
      "id": "050a5d4c-eb7a-45ad-8189-26e377b812cc",
      "metadata": {
        "tags": [],
        "id": "050a5d4c-eb7a-45ad-8189-26e377b812cc"
      },
      "outputs": [],
      "source": [
        "class AdalineSGD(object):\n",
        "\n",
        "    def __init__(self, eta=0.01, n_iter=10, shuffle=True, random_state=None):\n",
        "        self.eta = eta\n",
        "        self.n_iter = n_iter\n",
        "        self.w_initialized = False\n",
        "        self.shuffle = shuffle\n",
        "        self.random_state = random_state\n",
        "        self._initialize_weights(X.shape[1])\n",
        "\n",
        "    def fit(self, X, y):\n",
        "        self.cost_ = []\n",
        "        for i in range(self.n_iter):\n",
        "            if self.shuffle:\n",
        "                X, y = self._shuffle(X, y)\n",
        "            cost = []\n",
        "            for xi, target in zip(X, y):\n",
        "                cost.append(self._update_weights(xi, target))\n",
        "            avg_cost = sum(cost) / len(y)\n",
        "            self.cost_.append(avg_cost)\n",
        "            print(self.w_)\n",
        "        return self\n",
        "\n",
        "    def _shuffle(self, X, y):\n",
        "        r = self.rgen.permutation(len(y))\n",
        "        return X[r], y[r]\n",
        "\n",
        "    def _initialize_weights(self, m):\n",
        "        self.rgen = np.random.RandomState(self.random_state)\n",
        "        self.w_ = self.rgen.normal(loc=0.0, scale=0.01, size=1 + m)\n",
        "        self.w_initialized = True\n",
        "\n",
        "    def _update_weights(self, xi, target):\n",
        "        output = self.activation(self.net_input(xi))\n",
        "        error = (target - output)\n",
        "        self.w_[1:] += self.eta * xi.dot(error)\n",
        "        self.w_[0] += self.eta * error\n",
        "        cost = 0.5 * error**2\n",
        "        return cost\n",
        "\n",
        "    def net_input(self, X):\n",
        "        return np.dot(X, self.w_[1:]) + self.w_[0]\n",
        "\n",
        "    def activation(self, X):\n",
        "        return X\n",
        "\n",
        "    def predict(self, X):\n",
        "        return np.where(self.activation(self.net_input(X)) >= 0.0, 1, -1)"
      ]
    },
    {
      "cell_type": "markdown",
      "id": "ca840855-3fd7-4a40-be05-35d9576f6508",
      "metadata": {
        "id": "ca840855-3fd7-4a40-be05-35d9576f6508"
      },
      "source": [
        "### Training an Adaline model with SGD on the iris dataset\n",
        "- Training and visualizing a Adaline model using AdalineSGD Class"
      ]
    },
    {
      "cell_type": "code",
      "execution_count": 32,
      "id": "833aae23-242c-4545-a7ae-9a3420cc037b",
      "metadata": {
        "scrolled": true,
        "id": "833aae23-242c-4545-a7ae-9a3420cc037b",
        "outputId": "5e6a0214-b2d9-48de-adf9-2e342d833432",
        "colab": {
          "base_uri": "https://localhost:8080/"
        }
      },
      "outputs": [
        {
          "output_type": "stream",
          "name": "stdout",
          "text": [
            "[0.00547304 0.27285356 0.49825661]\n",
            "[-0.00608069  0.23654068  0.64462437]\n",
            "[0.00926127 0.18523628 0.74504939]\n",
            "[0.0015176  0.12647723 0.81131789]\n",
            "[0.00386798 0.07201719 0.86046615]\n",
            "[0.00740254 0.0312768  0.90627882]\n",
            "[7.88472441e-03 4.13494918e-04 9.46872499e-01]\n",
            "[ 0.00251789 -0.03650693  0.96815509]\n",
            "[-0.00110447 -0.06194687  0.99205647]\n",
            "[-0.00581369 -0.08027863  1.01350822]\n",
            "[-0.00954177 -0.09770813  1.02772661]\n",
            "[-0.00632273 -0.11472444  1.03770746]\n",
            "[-0.00587553 -0.12175986  1.052657  ]\n",
            "[-0.00632225 -0.13560041  1.05923075]\n",
            "[ 2.27202773e-04 -1.38544756e-01  1.07263215e+00]\n"
          ]
        },
        {
          "output_type": "execute_result",
          "data": {
            "text/plain": [
              "<__main__.AdalineSGD at 0x7fca5858d960>"
            ]
          },
          "metadata": {},
          "execution_count": 32
        }
      ],
      "source": [
        "ada = AdalineSGD(n_iter=15, eta=0.01, random_state=1)\n",
        "ada.fit(X_std, y)"
      ]
    },
    {
      "cell_type": "code",
      "execution_count": 33,
      "id": "833daba3-16d9-49ab-a9fa-48a8771996d5",
      "metadata": {
        "id": "833daba3-16d9-49ab-a9fa-48a8771996d5",
        "outputId": "f31e3cb7-7630-4b04-a330-ba75ea1effbf",
        "colab": {
          "base_uri": "https://localhost:8080/",
          "height": 449
        }
      },
      "outputs": [
        {
          "output_type": "display_data",
          "data": {
            "text/plain": [
              "<Figure size 640x480 with 1 Axes>"
            ],
            "image/png": "[encoded data removed]"
          },
          "metadata": {}
        }
      ],
      "source": [
        "plt.plot(range(1, len(ada.cost_) + 1), ada.cost_, marker='o')\n",
        "plt.xlabel('Epochs')\n",
        "plt.ylabel('Average Cost')\n",
        "plt.show()"
      ]
    },
    {
      "cell_type": "code",
      "execution_count": 34,
      "id": "75fb5767-2d79-4f9d-bd5b-3f124e96720f",
      "metadata": {
        "id": "75fb5767-2d79-4f9d-bd5b-3f124e96720f",
        "outputId": "840c221a-08d2-4560-e8ea-ec2955137489",
        "colab": {
          "base_uri": "https://localhost:8080/"
        }
      },
      "outputs": [
        {
          "output_type": "execute_result",
          "data": {
            "text/plain": [
              "array([-1, -1, -1, -1, -1, -1, -1, -1, -1, -1, -1, -1, -1, -1, -1, -1, -1,\n",
              "       -1, -1, -1, -1, -1, -1, -1, -1, -1, -1, -1, -1, -1, -1, -1, -1, -1,\n",
              "       -1, -1, -1, -1, -1, -1, -1, -1, -1, -1, -1, -1, -1, -1, -1, -1,  1,\n",
              "        1,  1,  1,  1,  1,  1,  1,  1,  1,  1,  1,  1,  1,  1,  1,  1,  1,\n",
              "        1,  1,  1,  1,  1,  1,  1,  1,  1,  1,  1,  1,  1,  1,  1,  1,  1,\n",
              "        1,  1,  1,  1,  1,  1,  1,  1,  1,  1,  1,  1,  1,  1,  1])"
            ]
          },
          "metadata": {},
          "execution_count": 34
        }
      ],
      "source": [
        "ada.predict(X_std)"
      ]
    },
    {
      "cell_type": "code",
      "execution_count": 35,
      "id": "7dc21145-84ab-40c6-9ec2-af57ca28dd30",
      "metadata": {
        "scrolled": true,
        "id": "7dc21145-84ab-40c6-9ec2-af57ca28dd30",
        "outputId": "83067136-3ab0-4227-c36a-8e8d7373170a",
        "colab": {
          "base_uri": "https://localhost:8080/",
          "height": 528
        }
      },
      "outputs": [
        {
          "output_type": "stream",
          "name": "stderr",
          "text": [
            "<ipython-input-14-6fb4529f1e27>:24: UserWarning: You passed a edgecolor/edgecolors ('black') for an unfilled marker ('x').  Matplotlib is ignoring the edgecolor in favor of the facecolor.  This behavior may change in the future.\n",
            "  plt.scatter(x=X[y == cl, 0],\n"
          ]
        },
        {
          "output_type": "display_data",
          "data": {
            "text/plain": [
              "<Figure size 640x480 with 1 Axes>"
            ],
            "image/png": "[encoded data removed]"
          },
          "metadata": {}
        }
      ],
      "source": [
        "plot_decision_regions(X_std, y, classifier=ada)\n",
        "plt.title('Adaline - Stochastic Gradient Descent')\n",
        "plt.xlabel('sepal length [standardized]')\n",
        "plt.ylabel('petal length [standardized]')\n",
        "plt.legend(loc='upper left')\n",
        "plt.show()"
      ]
    }
  ],
  "metadata": {
    "kernelspec": {
      "display_name": "Python 3 (ipykernel)",
      "language": "python",
      "name": "python3"
    },
    "language_info": {
      "codemirror_mode": {
        "name": "ipython",
        "version": 3
      },
      "file_extension": ".py",
      "mimetype": "text/x-python",
      "name": "python",
      "nbconvert_exporter": "python",
      "pygments_lexer": "ipython3",
      "version": "3.10.9"
    },
    "colab": {
      "provenance": [],
      "include_colab_link": true
    }
  },
  "nbformat": 4,
  "nbformat_minor": 5
}