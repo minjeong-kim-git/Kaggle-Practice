{
  "cells": [
    {
      "cell_type": "markdown",
      "metadata": {
        "id": "view-in-github",
        "colab_type": "text"
      },
      "source": [
        "<a href=\"https://colab.research.google.com/github/minjeong-kim-git/Kaggle-Practice/blob/main/Day%2008/ML04_Multilayer_Perceptron.ipynb\" target=\"_parent\"><img src=\"https://colab.research.google.com/assets/colab-badge.svg\" alt=\"Open In Colab\"/></a>"
      ]
    },
    {
      "cell_type": "markdown",
      "id": "5a068fc9",
      "metadata": {
        "id": "5a068fc9"
      },
      "source": [
        "# Day04 : Multilayer Perceptron"
      ]
    },
    {
      "cell_type": "markdown",
      "id": "6428d746-fd3e-4214-bab4-63967e277522",
      "metadata": {
        "tags": [],
        "id": "6428d746-fd3e-4214-bab4-63967e277522"
      },
      "source": [
        "- **Team ID** : 03조"
      ]
    },
    {
      "cell_type": "markdown",
      "id": "71b2c554-9d45-4626-9aa5-77011aa988c1",
      "metadata": {
        "tags": [],
        "id": "71b2c554-9d45-4626-9aa5-77011aa988c1"
      },
      "source": [
        "- Write and run the code below in jupyter notebook\n",
        "- After completion, rename the file, and summit the file to e-class\n",
        "- Submit file name : **“ML01\\_<#조\\>.ipynb”**, send me 김동현 <donghyunkim1217@gmail.com>\n",
        "  - Ex) ML01\\_#조\\.ipynb\n",
        "- Due : **오늘 16:59pm**"
      ]
    },
    {
      "cell_type": "markdown",
      "id": "00d9f8f3",
      "metadata": {
        "id": "00d9f8f3"
      },
      "source": [
        "# 1. Multilayer perceptron and backpropagation"
      ]
    },
    {
      "cell_type": "markdown",
      "id": "1518c88d",
      "metadata": {
        "id": "1518c88d"
      },
      "source": [
        "### Sigmoid activation function"
      ]
    },
    {
      "cell_type": "code",
      "execution_count": 1,
      "id": "f38f8d99",
      "metadata": {
        "id": "f38f8d99"
      },
      "outputs": [],
      "source": [
        "import numpy as np\n",
        "\n",
        "# sigmoid function\n",
        "def sigmoid(z):\n",
        "    return 1. / (1. + np.exp(-np.clip(z, -250, 250)))  # np.clip - preventing overflow"
      ]
    },
    {
      "cell_type": "code",
      "execution_count": 2,
      "id": "09359048",
      "metadata": {
        "colab": {
          "base_uri": "https://localhost:8080/"
        },
        "id": "09359048",
        "outputId": "3046ad0a-7794-478f-b374-28790f07eee5"
      },
      "outputs": [
        {
          "output_type": "stream",
          "name": "stdout",
          "text": [
            "sigmoid of z = \n",
            " [[0.73105858 0.5        0.26894142]\n",
            " [0.26894142 0.5        0.73105858]]\n"
          ]
        }
      ],
      "source": [
        "# test sigmoid\n",
        "z = np.array([[1.0, 0.0, -1.0],\n",
        "              [-1.0, 0.0, 1.0]])\n",
        "\n",
        "print(\"sigmoid of z = \\n\", sigmoid(z))"
      ]
    },
    {
      "cell_type": "markdown",
      "id": "463b4f0f",
      "metadata": {
        "id": "463b4f0f"
      },
      "source": [
        "### Softmax function"
      ]
    },
    {
      "cell_type": "code",
      "execution_count": 3,
      "id": "bb1c0db7",
      "metadata": {
        "id": "bb1c0db7"
      },
      "outputs": [],
      "source": [
        "# softmax function for 2D array\n",
        "def softmax(z):\n",
        "    exps = np.exp(z)\n",
        "    return exps / np.sum(exps, axis = 1, keepdims = True)"
      ]
    },
    {
      "cell_type": "code",
      "execution_count": 4,
      "id": "e6306a86",
      "metadata": {
        "colab": {
          "base_uri": "https://localhost:8080/"
        },
        "id": "e6306a86",
        "outputId": "c21edc47-0e8b-4211-eae7-30ee3290d810"
      },
      "outputs": [
        {
          "output_type": "stream",
          "name": "stdout",
          "text": [
            "softmax of z = \n",
            " [[0.66524096 0.24472847 0.09003057]\n",
            " [0.09003057 0.24472847 0.66524096]]\n",
            "sum of softmax values = \n",
            " [[1.]\n",
            " [1.]]\n"
          ]
        }
      ],
      "source": [
        "# test softmax\n",
        "z = np.array([[1.0, 0.0, -1.0],\n",
        "              [-1.0, 0.0, 1.0]])\n",
        "\n",
        "print(\"softmax of z = \\n\", softmax(z))\n",
        "print(\"sum of softmax values = \\n\", np.sum(softmax(z), axis=1, keepdims=True))"
      ]
    },
    {
      "cell_type": "markdown",
      "id": "ff41166b",
      "metadata": {
        "id": "ff41166b"
      },
      "source": [
        "### Example dataset"
      ]
    },
    {
      "cell_type": "code",
      "execution_count": 5,
      "id": "27654113",
      "metadata": {
        "id": "27654113"
      },
      "outputs": [],
      "source": [
        "X = np.array([[0.5, 0.0, -0.5],\n",
        "              [-0.5, 0.0, 0.5]])\n",
        "y = np.array([[1, 0],\n",
        "             [0, 1]])"
      ]
    },
    {
      "cell_type": "markdown",
      "id": "c6dfe769",
      "metadata": {
        "id": "c6dfe769"
      },
      "source": [
        "### Example network"
      ]
    },
    {
      "cell_type": "markdown",
      "id": "7ff4ae78",
      "metadata": {
        "id": "7ff4ae78"
      },
      "source": [
        "### Initial parameters"
      ]
    },
    {
      "cell_type": "code",
      "execution_count": 6,
      "id": "96c4ca29",
      "metadata": {
        "id": "96c4ca29"
      },
      "outputs": [],
      "source": [
        "# weights and bias of hidden layer. w_h is (3, 2)\n",
        "w_h = np.array([[1, -1],\n",
        "                [0, 0],\n",
        "                [-1, 1]])\n",
        "b_h = [0.0, 0.0]\n",
        "\n",
        "# weights and bias of output layer. w_o is (2, 2)\n",
        "w_o = np.array([[1, -1],\n",
        "                [-1, 1]])\n",
        "b_o = [0.0, 0.0]"
      ]
    },
    {
      "cell_type": "markdown",
      "id": "d92f06ab",
      "metadata": {
        "id": "d92f06ab"
      },
      "source": [
        "### Forward computation"
      ]
    },
    {
      "cell_type": "code",
      "execution_count": 7,
      "id": "8596ee94",
      "metadata": {
        "colab": {
          "base_uri": "https://localhost:8080/"
        },
        "id": "8596ee94",
        "outputId": "4c31765f-2058-4bbf-fa20-a47dccfd7604"
      },
      "outputs": [
        {
          "output_type": "stream",
          "name": "stdout",
          "text": [
            "[[ 0.5  0.  -0.5]\n",
            " [-0.5  0.   0.5]]\n"
          ]
        }
      ],
      "source": [
        "# input X\n",
        "print(X)"
      ]
    },
    {
      "cell_type": "code",
      "execution_count": 9,
      "id": "f39037bd",
      "metadata": {
        "colab": {
          "base_uri": "https://localhost:8080/"
        },
        "id": "f39037bd",
        "outputId": "0fb1ac0c-0c35-4055-b774-b6055e4bd1be"
      },
      "outputs": [
        {
          "output_type": "stream",
          "name": "stdout",
          "text": [
            "[[ 1. -1.]\n",
            " [-1.  1.]]\n",
            "[[0.73105858 0.26894142]\n",
            " [0.26894142 0.73105858]]\n"
          ]
        }
      ],
      "source": [
        "# output of hidden layer\n",
        "z_h = np.dot(X, w_h) + b_h\n",
        "a_h = sigmoid(z_h)\n",
        "\n",
        "print(z_h)\n",
        "print(a_h)"
      ]
    },
    {
      "cell_type": "code",
      "execution_count": 10,
      "id": "892a3b81",
      "metadata": {
        "colab": {
          "base_uri": "https://localhost:8080/"
        },
        "id": "892a3b81",
        "outputId": "19b5ee72-26db-4730-d9d9-8c2ea755e2e0"
      },
      "outputs": [
        {
          "output_type": "stream",
          "name": "stdout",
          "text": [
            "[[ 0.46211716 -0.46211716]\n",
            " [-0.46211716  0.46211716]]\n",
            "[[0.71590409 0.28409591]\n",
            " [0.28409591 0.71590409]]\n"
          ]
        }
      ],
      "source": [
        "# output of output layer\n",
        "z_o = np.dot(a_h, w_o) + b_o\n",
        "a_o = softmax(z_o)\n",
        "\n",
        "print(z_o)\n",
        "print(a_o)"
      ]
    },
    {
      "cell_type": "code",
      "execution_count": 11,
      "id": "3afb8835",
      "metadata": {
        "colab": {
          "base_uri": "https://localhost:8080/"
        },
        "id": "3afb8835",
        "outputId": "5b7550d2-c1e1-41c4-dc83-de0edcd1809a"
      },
      "outputs": [
        {
          "output_type": "execute_result",
          "data": {
            "text/plain": [
              "array([0, 1])"
            ]
          },
          "metadata": {},
          "execution_count": 11
        }
      ],
      "source": [
        "np.argmax(a_o, axis=1)"
      ]
    },
    {
      "cell_type": "markdown",
      "id": "ba38bcb0",
      "metadata": {
        "id": "ba38bcb0"
      },
      "source": [
        "### Compute cost"
      ]
    },
    {
      "cell_type": "code",
      "execution_count": 14,
      "id": "44a0135a",
      "metadata": {
        "colab": {
          "base_uri": "https://localhost:8080/"
        },
        "id": "44a0135a",
        "outputId": "ddb13535-adbc-4e6d-9a07-68af1c743e3d"
      },
      "outputs": [
        {
          "output_type": "stream",
          "name": "stdout",
          "text": [
            "0.334208933408766\n"
          ]
        }
      ],
      "source": [
        "# cross entropy loss\n",
        "cost = - np.sum(y * (np.log(a_o + 1e-7))) / y.shape[0]\n",
        "\n",
        "print(cost)"
      ]
    },
    {
      "cell_type": "markdown",
      "id": "da664d49",
      "metadata": {
        "id": "da664d49"
      },
      "source": [
        "### Compute gradients"
      ]
    },
    {
      "cell_type": "code",
      "execution_count": 15,
      "id": "92d7cb8e",
      "metadata": {
        "id": "92d7cb8e"
      },
      "outputs": [],
      "source": [
        "# compute delta of output layer and hidden layer\n",
        "delta_o = a_o - y\n",
        "delta_h = np.dot(delta_o, w_o.T) * a_h * (1. - a_h)"
      ]
    },
    {
      "cell_type": "code",
      "execution_count": 16,
      "id": "fb6740ca",
      "metadata": {
        "colab": {
          "base_uri": "https://localhost:8080/"
        },
        "id": "fb6740ca",
        "outputId": "9e011df8-af55-4f04-d328-925bed348e37"
      },
      "outputs": [
        {
          "output_type": "stream",
          "name": "stdout",
          "text": [
            "[[-0.13128559  0.13128559]\n",
            " [ 0.13128559 -0.13128559]]\n",
            "[0. 0.]\n"
          ]
        }
      ],
      "source": [
        "# compute gradient of output layer\n",
        "grad_w_o = np.dot(a_h.T, delta_o)\n",
        "grad_b_o = np.sum(delta_o, axis=0)\n",
        "\n",
        "print(grad_w_o)\n",
        "print(grad_b_o)"
      ]
    },
    {
      "cell_type": "code",
      "execution_count": 17,
      "id": "9011cc1a",
      "metadata": {
        "colab": {
          "base_uri": "https://localhost:8080/"
        },
        "id": "9011cc1a",
        "outputId": "ce7a4d33-600e-4e3f-fef3-c70917175369"
      },
      "outputs": [
        {
          "output_type": "stream",
          "name": "stdout",
          "text": [
            "[[-0.11171329  0.11171329]\n",
            " [ 0.          0.        ]\n",
            " [ 0.11171329 -0.11171329]]\n",
            "[0. 0.]\n"
          ]
        }
      ],
      "source": [
        "# compute gradient of hidden layer\n",
        "grad_w_h = np.dot(X.T, delta_h)\n",
        "grad_b_h = np.sum(delta_h, axis=0)\n",
        "\n",
        "print(grad_w_h)\n",
        "print(grad_b_h)"
      ]
    },
    {
      "cell_type": "markdown",
      "id": "d583bc06",
      "metadata": {
        "id": "d583bc06"
      },
      "source": [
        "### Update parameters - gradient descent"
      ]
    },
    {
      "cell_type": "code",
      "execution_count": 18,
      "id": "7502ad3e",
      "metadata": {
        "id": "7502ad3e"
      },
      "outputs": [],
      "source": [
        "# learning rate\n",
        "alpha = 0.1\n",
        "\n",
        "# update parameters by gradient descent\n",
        "w_o = w_o - alpha * grad_w_o\n",
        "b_o = b_o - alpha * grad_b_o\n",
        "\n",
        "w_h = w_h - alpha * grad_w_h\n",
        "b_h = b_h - alpha * grad_b_h"
      ]
    },
    {
      "cell_type": "code",
      "execution_count": 19,
      "id": "976a8e39",
      "metadata": {
        "colab": {
          "base_uri": "https://localhost:8080/"
        },
        "id": "976a8e39",
        "outputId": "1fab2669-e86c-47b5-bcfe-41ea320d1f67"
      },
      "outputs": [
        {
          "output_type": "stream",
          "name": "stdout",
          "text": [
            "[[ 1.01312856 -1.01312856]\n",
            " [-1.01312856  1.01312856]]\n",
            "[0. 0.]\n",
            "[[ 1.01117133 -1.01117133]\n",
            " [ 0.          0.        ]\n",
            " [-1.01117133  1.01117133]]\n",
            "[0. 0.]\n"
          ]
        }
      ],
      "source": [
        "print(w_o)\n",
        "print(b_o)\n",
        "print(w_h)\n",
        "print(b_h)"
      ]
    },
    {
      "cell_type": "markdown",
      "id": "22dbe451",
      "metadata": {
        "id": "22dbe451"
      },
      "source": [
        "---"
      ]
    },
    {
      "cell_type": "markdown",
      "id": "c4253020",
      "metadata": {
        "id": "c4253020"
      },
      "source": [
        "# 2. Image Classification using Multilayer Perceptron"
      ]
    },
    {
      "cell_type": "markdown",
      "id": "b7dc6c92",
      "metadata": {
        "id": "b7dc6c92"
      },
      "source": [
        "### The MNIST image dataset"
      ]
    },
    {
      "cell_type": "code",
      "source": [
        "from google.colab import files\n",
        "from google.colab import drive\n",
        "\n",
        "drive.mount('/content/drive')"
      ],
      "metadata": {
        "colab": {
          "base_uri": "https://localhost:8080/"
        },
        "id": "0GwvVOFs5yQ5",
        "outputId": "d269d53e-a4bd-45f6-f3b2-0576fade96c6"
      },
      "id": "0GwvVOFs5yQ5",
      "execution_count": 21,
      "outputs": [
        {
          "output_type": "stream",
          "name": "stdout",
          "text": [
            "Mounted at /content/drive\n"
          ]
        }
      ]
    },
    {
      "cell_type": "code",
      "execution_count": 23,
      "id": "35b6dbf2",
      "metadata": {
        "colab": {
          "base_uri": "https://localhost:8080/"
        },
        "id": "35b6dbf2",
        "outputId": "d9737c8d-7fe0-4ef9-8fdc-e0122adf91ea"
      },
      "outputs": [
        {
          "output_type": "execute_result",
          "data": {
            "text/plain": [
              "{'__header__': b'MATLAB 5.0 MAT-file Platform: posix, Created on: Sun Mar 30 03:19:02 2014',\n",
              " '__version__': '1.0',\n",
              " '__globals__': [],\n",
              " 'mldata_descr_ordering': array([[array(['label'], dtype='<U5'), array(['data'], dtype='<U4')]],\n",
              "       dtype=object),\n",
              " 'data': array([[0, 0, 0, ..., 0, 0, 0],\n",
              "        [0, 0, 0, ..., 0, 0, 0],\n",
              "        [0, 0, 0, ..., 0, 0, 0],\n",
              "        ...,\n",
              "        [0, 0, 0, ..., 0, 0, 0],\n",
              "        [0, 0, 0, ..., 0, 0, 0],\n",
              "        [0, 0, 0, ..., 0, 0, 0]], dtype=uint8),\n",
              " 'label': array([[0., 0., 0., ..., 9., 9., 9.]])}"
            ]
          },
          "metadata": {},
          "execution_count": 23
        }
      ],
      "source": [
        "import matplotlib.pyplot as plt\n",
        "from scipy import io\n",
        "\n",
        "# load the MNIST dataset\n",
        "directory = '/content/drive/MyDrive/data/mnist-original.mat'\n",
        "mnist = io.loadmat(directory)\n",
        "mnist"
      ]
    },
    {
      "cell_type": "code",
      "execution_count": 24,
      "id": "fc92a71d",
      "metadata": {
        "colab": {
          "base_uri": "https://localhost:8080/"
        },
        "id": "fc92a71d",
        "outputId": "e6ee2c85-0c1d-4db3-bbf0-2980326b58f9"
      },
      "outputs": [
        {
          "output_type": "execute_result",
          "data": {
            "text/plain": [
              "(70000, 784)"
            ]
          },
          "metadata": {},
          "execution_count": 24
        }
      ],
      "source": [
        "# get X and y\n",
        "X = mnist['data']\n",
        "y = mnist['label']\n",
        "\n",
        "X = np.array(X).T\n",
        "X.shape"
      ]
    },
    {
      "cell_type": "code",
      "execution_count": 25,
      "id": "4cdfda23",
      "metadata": {
        "colab": {
          "base_uri": "https://localhost:8080/"
        },
        "id": "4cdfda23",
        "outputId": "10397b35-cbe1-45d4-d9e1-70c9f0e6185d"
      },
      "outputs": [
        {
          "output_type": "execute_result",
          "data": {
            "text/plain": [
              "(70000,)"
            ]
          },
          "metadata": {},
          "execution_count": 25
        }
      ],
      "source": [
        "y = np.array(y).T.ravel()\n",
        "y.shape"
      ]
    },
    {
      "cell_type": "code",
      "execution_count": 26,
      "id": "eb159efb",
      "metadata": {
        "colab": {
          "base_uri": "https://localhost:8080/"
        },
        "id": "eb159efb",
        "outputId": "9eb250c2-36bc-45d0-e6fb-f23e1154d1f0"
      },
      "outputs": [
        {
          "output_type": "execute_result",
          "data": {
            "text/plain": [
              "array([  0,   0,   0,   0,   0,   0,   0,   0,   0,   0,   0,   0,   0,\n",
              "         0,   0,   0,   0,   0,   0,   0,   0,   0,   0,   0,   0,   0,\n",
              "         0,   0,   0,   0,   0,   0,   0,   0,   0,   0,   0,   0,   0,\n",
              "         0,   0,   0,   0,   0,   0,   0,   0,   0,   0,   0,   0,   0,\n",
              "         0,   0,   0,   0,   0,   0,   0,   0,   0,   0,   0,   0,   0,\n",
              "         0,   0,   0,   0,   0,   0,   0,   0,   0,   0,   0,   0,   0,\n",
              "         0,   0,   0,   0,   0,   0,   0,   0,   0,   0,   0,   0,   0,\n",
              "         0,   0,   0,   0,   0,   0,   0,   0,   0,   0,   0,   0,   0,\n",
              "         0,   0,   0,   0,   0,   0,   0,   0,   0,   0,   0,   0,   0,\n",
              "         0,   0,   0,   0,   0,   0,   0,   0,   0,   0,  51, 159, 253,\n",
              "       159,  50,   0,   0,   0,   0,   0,   0,   0,   0,   0,   0,   0,\n",
              "         0,   0,   0,   0,   0,   0,   0,   0,   0,   0,   0,  48, 238,\n",
              "       252, 252, 252, 237,   0,   0,   0,   0,   0,   0,   0,   0,   0,\n",
              "         0,   0,   0,   0,   0,   0,   0,   0,   0,   0,   0,   0,  54,\n",
              "       227, 253, 252, 239, 233, 252,  57,   6,   0,   0,   0,   0,   0,\n",
              "         0,   0,   0,   0,   0,   0,   0,   0,   0,   0,   0,   0,  10,\n",
              "        60, 224, 252, 253, 252, 202,  84, 252, 253, 122,   0,   0,   0,\n",
              "         0,   0,   0,   0,   0,   0,   0,   0,   0,   0,   0,   0,   0,\n",
              "         0, 163, 252, 252, 252, 253, 252, 252,  96, 189, 253, 167,   0,\n",
              "         0,   0,   0,   0,   0,   0,   0,   0,   0,   0,   0,   0,   0,\n",
              "         0,   0,  51, 238, 253, 253, 190, 114, 253, 228,  47,  79, 255,\n",
              "       168,   0,   0,   0,   0,   0,   0,   0,   0,   0,   0,   0,   0,\n",
              "         0,   0,   0,  48, 238, 252, 252, 179,  12,  75, 121,  21,   0,\n",
              "         0, 253, 243,  50,   0,   0,   0,   0,   0,   0,   0,   0,   0,\n",
              "         0,   0,   0,   0,  38, 165, 253, 233, 208,  84,   0,   0,   0,\n",
              "         0,   0,   0, 253, 252, 165,   0,   0,   0,   0,   0,   0,   0,\n",
              "         0,   0,   0,   0,   0,   7, 178, 252, 240,  71,  19,  28,   0,\n",
              "         0,   0,   0,   0,   0, 253, 252, 195,   0,   0,   0,   0,   0,\n",
              "         0,   0,   0,   0,   0,   0,   0,  57, 252, 252,  63,   0,   0,\n",
              "         0,   0,   0,   0,   0,   0,   0, 253, 252, 195,   0,   0,   0,\n",
              "         0,   0,   0,   0,   0,   0,   0,   0,   0, 198, 253, 190,   0,\n",
              "         0,   0,   0,   0,   0,   0,   0,   0,   0, 255, 253, 196,   0,\n",
              "         0,   0,   0,   0,   0,   0,   0,   0,   0,   0,  76, 246, 252,\n",
              "       112,   0,   0,   0,   0,   0,   0,   0,   0,   0,   0, 253, 252,\n",
              "       148,   0,   0,   0,   0,   0,   0,   0,   0,   0,   0,   0,  85,\n",
              "       252, 230,  25,   0,   0,   0,   0,   0,   0,   0,   0,   7, 135,\n",
              "       253, 186,  12,   0,   0,   0,   0,   0,   0,   0,   0,   0,   0,\n",
              "         0,  85, 252, 223,   0,   0,   0,   0,   0,   0,   0,   0,   7,\n",
              "       131, 252, 225,  71,   0,   0,   0,   0,   0,   0,   0,   0,   0,\n",
              "         0,   0,   0,  85, 252, 145,   0,   0,   0,   0,   0,   0,   0,\n",
              "        48, 165, 252, 173,   0,   0,   0,   0,   0,   0,   0,   0,   0,\n",
              "         0,   0,   0,   0,   0,  86, 253, 225,   0,   0,   0,   0,   0,\n",
              "         0, 114, 238, 253, 162,   0,   0,   0,   0,   0,   0,   0,   0,\n",
              "         0,   0,   0,   0,   0,   0,   0,  85, 252, 249, 146,  48,  29,\n",
              "        85, 178, 225, 253, 223, 167,  56,   0,   0,   0,   0,   0,   0,\n",
              "         0,   0,   0,   0,   0,   0,   0,   0,   0,  85, 252, 252, 252,\n",
              "       229, 215, 252, 252, 252, 196, 130,   0,   0,   0,   0,   0,   0,\n",
              "         0,   0,   0,   0,   0,   0,   0,   0,   0,   0,   0,  28, 199,\n",
              "       252, 252, 253, 252, 252, 233, 145,   0,   0,   0,   0,   0,   0,\n",
              "         0,   0,   0,   0,   0,   0,   0,   0,   0,   0,   0,   0,   0,\n",
              "         0,  25, 128, 252, 253, 252, 141,  37,   0,   0,   0,   0,   0,\n",
              "         0,   0,   0,   0,   0,   0,   0,   0,   0,   0,   0,   0,   0,\n",
              "         0,   0,   0,   0,   0,   0,   0,   0,   0,   0,   0,   0,   0,\n",
              "         0,   0,   0,   0,   0,   0,   0,   0,   0,   0,   0,   0,   0,\n",
              "         0,   0,   0,   0,   0,   0,   0,   0,   0,   0,   0,   0,   0,\n",
              "         0,   0,   0,   0,   0,   0,   0,   0,   0,   0,   0,   0,   0,\n",
              "         0,   0,   0,   0,   0,   0,   0,   0,   0,   0,   0,   0,   0,\n",
              "         0,   0,   0,   0,   0,   0,   0,   0,   0,   0,   0,   0,   0,\n",
              "         0,   0,   0,   0,   0,   0,   0,   0,   0,   0,   0,   0,   0,\n",
              "         0,   0,   0,   0,   0,   0,   0,   0,   0,   0,   0,   0,   0,\n",
              "         0,   0,   0,   0], dtype=uint8)"
            ]
          },
          "metadata": {},
          "execution_count": 26
        }
      ],
      "source": [
        "# check data 0 (image 0)\n",
        "\n",
        "X[0]"
      ]
    },
    {
      "cell_type": "code",
      "execution_count": 27,
      "id": "8a2a0a72",
      "metadata": {
        "colab": {
          "base_uri": "https://localhost:8080/",
          "height": 430
        },
        "id": "8a2a0a72",
        "outputId": "10e1aa67-5de9-4c4c-df6b-df0abe47dfff"
      },
      "outputs": [
        {
          "output_type": "display_data",
          "data": {
            "text/plain": [
              "<Figure size 640x480 with 1 Axes>"
            ],
            "image/png": "[encoded data removed]"
          },
          "metadata": {}
        }
      ],
      "source": [
        "# show image 0\n",
        "ex1 = X[0]\n",
        "ex1_image = ex1.reshape(28, 28)\n",
        "plt.imshow(ex1_image, cmap='Greys')\n",
        "plt.show()"
      ]
    },
    {
      "cell_type": "code",
      "execution_count": 28,
      "id": "9941d7a9",
      "metadata": {
        "colab": {
          "base_uri": "https://localhost:8080/"
        },
        "id": "9941d7a9",
        "outputId": "30bff42c-6f72-492a-f802-12e771c08c8b"
      },
      "outputs": [
        {
          "output_type": "execute_result",
          "data": {
            "text/plain": [
              "0.0"
            ]
          },
          "metadata": {},
          "execution_count": 28
        }
      ],
      "source": [
        "# label of image 0\n",
        "y[0]"
      ]
    },
    {
      "cell_type": "code",
      "execution_count": 29,
      "id": "33f7536f",
      "metadata": {
        "colab": {
          "base_uri": "https://localhost:8080/",
          "height": 430
        },
        "id": "33f7536f",
        "outputId": "706eef00-0e81-43e5-904b-5024ba00f2ac"
      },
      "outputs": [
        {
          "output_type": "display_data",
          "data": {
            "text/plain": [
              "<Figure size 640x480 with 1 Axes>"
            ],
            "image/png": "[encoded data removed]"
          },
          "metadata": {}
        }
      ],
      "source": [
        "# show image 50000\n",
        "ex1 = X[50000]\n",
        "ex1_image = ex1.reshape(28, 28)\n",
        "plt.imshow(ex1_image, cmap='Greys')\n",
        "plt.show()"
      ]
    },
    {
      "cell_type": "code",
      "execution_count": 30,
      "id": "8ba191e5",
      "metadata": {
        "colab": {
          "base_uri": "https://localhost:8080/"
        },
        "id": "8ba191e5",
        "outputId": "01c36476-7359-49aa-8b59-9f21c97f68d8"
      },
      "outputs": [
        {
          "output_type": "execute_result",
          "data": {
            "text/plain": [
              "8.0"
            ]
          },
          "metadata": {},
          "execution_count": 30
        }
      ],
      "source": [
        "# label of image 50000\n",
        "y[50000]"
      ]
    },
    {
      "cell_type": "code",
      "execution_count": 31,
      "id": "af13e18a",
      "metadata": {
        "id": "af13e18a"
      },
      "outputs": [],
      "source": [
        "# train/test split\n",
        "X_train, X_test = X[:60000], X[60000:]\n",
        "y_train, y_test = y[:60000], y[60000:]"
      ]
    },
    {
      "cell_type": "markdown",
      "id": "3517338c",
      "metadata": {
        "id": "3517338c"
      },
      "source": [
        "### One-hot encoding of class label"
      ]
    },
    {
      "cell_type": "code",
      "execution_count": 32,
      "id": "b46cee81",
      "metadata": {
        "id": "b46cee81"
      },
      "outputs": [],
      "source": [
        "# function to encode class label to one-hot\n",
        "# ex> 2 --> 0 0 1 0 0 0 0 0 0 0\n",
        "def onehot(y, n_classes):\n",
        "\n",
        "    # y is an array of labels\n",
        "    # n_classes is number of different labels\n",
        "    onehot = np.zeros((y.shape[0], n_classes))\n",
        "\n",
        "    for idx, val in enumerate(y.astype(int)):\n",
        "        onehot[idx, val] = 1.\n",
        "    return onehot"
      ]
    },
    {
      "cell_type": "code",
      "execution_count": 33,
      "id": "b3989385",
      "metadata": {
        "colab": {
          "base_uri": "https://localhost:8080/"
        },
        "id": "b3989385",
        "outputId": "bc7fcd9e-c063-44c4-eac2-3ffa0a256ac6"
      },
      "outputs": [
        {
          "output_type": "stream",
          "name": "stdout",
          "text": [
            "[[1. 0. 0.]\n",
            " [0. 1. 0.]\n",
            " [0. 0. 1.]\n",
            " [1. 0. 0.]\n",
            " [0. 1. 0.]\n",
            " [0. 0. 1.]]\n"
          ]
        }
      ],
      "source": [
        "# test onehot encoding\n",
        "y = np.array([0, 1, 2, 0, 1, 2])\n",
        "print(onehot(y, 3))"
      ]
    },
    {
      "cell_type": "markdown",
      "id": "6d156b46-8cf3-4d16-8636-b813ddf0be6a",
      "metadata": {
        "id": "6d156b46-8cf3-4d16-8636-b813ddf0be6a"
      },
      "source": [
        "### Generating batchs for Stochastic Gradient Descent"
      ]
    },
    {
      "cell_type": "code",
      "execution_count": 34,
      "id": "1e710459",
      "metadata": {
        "colab": {
          "base_uri": "https://localhost:8080/"
        },
        "id": "1e710459",
        "outputId": "104a24eb-37cc-4a3c-ed4b-2de3478e4581"
      },
      "outputs": [
        {
          "output_type": "stream",
          "name": "stdout",
          "text": [
            "total number of data =  60000\n",
            "indices =  [    0     1     2 ... 59997 59998 59999]\n"
          ]
        }
      ],
      "source": [
        "# total number of data and total index\n",
        "n_data = X_train.shape[0]\n",
        "indices = np.arange(n_data)\n",
        "\n",
        "print(\"total number of data = \", n_data)\n",
        "print(\"indices = \", indices)"
      ]
    },
    {
      "cell_type": "code",
      "execution_count": 35,
      "id": "20918aa5",
      "metadata": {
        "colab": {
          "base_uri": "https://localhost:8080/"
        },
        "id": "20918aa5",
        "outputId": "ee301a06-5c79-42dc-eb4a-075cbc21c6ff"
      },
      "outputs": [
        {
          "output_type": "stream",
          "name": "stdout",
          "text": [
            "indices = [   0    1    2 ... 9997 9998 9999] batch data shape =  (10000, 784)\n",
            "indices = [10000 10001 10002 ... 19997 19998 19999] batch data shape =  (10000, 784)\n",
            "indices = [20000 20001 20002 ... 29997 29998 29999] batch data shape =  (10000, 784)\n",
            "indices = [30000 30001 30002 ... 39997 39998 39999] batch data shape =  (10000, 784)\n",
            "indices = [40000 40001 40002 ... 49997 49998 49999] batch data shape =  (10000, 784)\n",
            "indices = [50000 50001 50002 ... 59997 59998 59999] batch data shape =  (10000, 784)\n"
          ]
        }
      ],
      "source": [
        "# test generating batch training data of size 10000\n",
        "batch_size = 10000\n",
        "\n",
        "# for 0, 10000, 20000, ...\n",
        "for start_idx in range(0, indices.shape[0]-batch_size+1, batch_size):\n",
        "\n",
        "    # each batch has 10000 data\n",
        "    batch_idx = indices[start_idx : start_idx+batch_size]\n",
        "    print(\"indices =\", batch_idx, \"batch data shape = \", X_train[batch_idx].shape)"
      ]
    },
    {
      "cell_type": "markdown",
      "id": "33119fe9",
      "metadata": {
        "id": "33119fe9"
      },
      "source": [
        "### The Multilayer Perceptron class"
      ]
    },
    {
      "cell_type": "code",
      "execution_count": 51,
      "id": "3bd3a296",
      "metadata": {
        "id": "3bd3a296"
      },
      "outputs": [],
      "source": [
        "import sys\n",
        "\n",
        "class NeuralNetMLP(object):\n",
        "    '''\n",
        "    This model has 1 hidden layer\n",
        "\n",
        "    n_hidden :   number of hidden units\n",
        "    epochs :     number of epoches\n",
        "    alpha :      learning rate\n",
        "    shuffle :    if True, shuffle the training data each epoch\n",
        "    batch_size : size of batch training set\n",
        "    seed :       seed for random generation\n",
        "\n",
        "    z_h, a_h : z and output of hidden layer\n",
        "    z_o, a_o : z and output of output layer\n",
        "\n",
        "    n_samples :  number of total data\n",
        "    n_features : number of features of a data\n",
        "    n_output :   numner of output (number of class labels)\n",
        "\n",
        "    w_h, b_h : parameter of hidden layer. (n_features, n_hidden), (n_hidden)\n",
        "    w_o, b_o : parameter of output layer. (n_hidden, n_output), (n_output)\n",
        "\n",
        "    '''\n",
        "    def __init__(self, n_hidden=100, epochs=100, alpha=0.01,\n",
        "                 shuffle=True, batch_size=100, seed=None):\n",
        "\n",
        "        self.random = np.random.RandomState(seed)\n",
        "        self.n_hidden = n_hidden\n",
        "        self.epochs = epochs\n",
        "        self.alpha = alpha\n",
        "        self.shuffle = shuffle\n",
        "        self.batch_size = batch_size\n",
        "\n",
        "    # sigmoid function\n",
        "    def _sigmoid(self, z):\n",
        "        return 1. / (1. + np.exp(-np.clip(z, -250, 250)))  # np.clip - preventing overflow\n",
        "\n",
        "    # softmax function for 2D array\n",
        "    def _softmax(self, z):\n",
        "        exps = np.exp(z)\n",
        "        return exps / np.sum(exps, axis=1, keepdims=True)\n",
        "\n",
        "    # forward computation\n",
        "    def _forward(self, X):\n",
        "\n",
        "        # z and a of hidden layer. a = sigmoid(z)\n",
        "        # (n_samples, n_features) dot (n_features, n_hidden) -> (n_samples, n_hidden)\n",
        "        z_h = np.dot(X, self.w_h) + self.b_h\n",
        "        a_h = self._sigmoid(z_h)\n",
        "\n",
        "        # z and a of output layer. a = softmax(z)\n",
        "        # (n_samples, n_hidden) dot (n_hidden, n_output) -> (n_samples, n_output)\n",
        "        z_o = np.dot(a_h, self.w_o) + self.b_o\n",
        "        a_o = self._softmax(z_o)\n",
        "\n",
        "        return z_h, a_h, z_o, a_o\n",
        "\n",
        "    # compute cost - cross entropy\n",
        "    def _compute_cost(self, y_enc, output):\n",
        "\n",
        "        # y_enc :  onehot endcoded y (n_samples, n_output (labels))\n",
        "        # output : a_o of output layer (n_samples, n_output)\n",
        "        cost = np.sum(-y_enc * (np.log(output + 1e-7))) / self.n_samples # output+1e-7 to prevent overflow\n",
        "\n",
        "        return cost\n",
        "\n",
        "    # predict class label\n",
        "    def predict(self, X):\n",
        "\n",
        "        # y_pred : index of max output (n_samples)\n",
        "        z_h, a_h, z_o, a_o = self._forward(X)\n",
        "        y_pred = np.argmax(a_o, axis=1)\n",
        "\n",
        "        return y_pred\n",
        "\n",
        "    # train the model\n",
        "    def fit(self, X_train, y_train):\n",
        "\n",
        "        # X_train : (n_samples, n_features)\n",
        "        # y_train : (n_samples)\n",
        "        self.n_samples = X_train.shape[0]\n",
        "        self.n_features = X_train.shape[1]\n",
        "        self.n_output = np.unique(y_train).shape[0]  # number of class labels\n",
        "\n",
        "        # initialize parameters\n",
        "        self.b_h = np.zeros(self.n_hidden)\n",
        "        self.w_h = self.random.normal(loc=0.0, scale=0.1, size=(self.n_features, self.n_hidden))\n",
        "        self.b_o = np.zeros(self.n_output)\n",
        "        self.w_o = self.random.normal(loc=0.0, scale=0.1, size=(self.n_hidden, self.n_output))\n",
        "\n",
        "        # one-hot encoding y_train\n",
        "        y_train_enc = onehot(y_train, self.n_output)\n",
        "\n",
        "        # print the dimension of model\n",
        "        print(\"number of input  = \", self.n_features)\n",
        "        print(\"number of hidden = \", self.n_hidden)\n",
        "        print(\"number of output = \", self.n_output)\n",
        "\n",
        "        # record cost\n",
        "        self.history = []\n",
        "\n",
        "        # gradient descent for total epochs\n",
        "        for i in range(self.epochs):\n",
        "\n",
        "            indices = np.arange(self.n_samples)\n",
        "            if self.shuffle:\n",
        "                self.random.shuffle(indices)\n",
        "\n",
        "            # for each batch\n",
        "            for start_idx in range(0, indices.shape[0]-self.batch_size+1, self.batch_size):\n",
        "                batch_idx = indices[start_idx:start_idx+self.batch_size]\n",
        "\n",
        "                X = X_train[batch_idx]\n",
        "                y = y_train_enc[batch_idx]\n",
        "\n",
        "                # forward computation\n",
        "                z_h, a_h, z_o, a_o = self._forward(X)\n",
        "\n",
        "                # compute deltas\n",
        "                delta_o = a_o - y                                        # [batch_size, n_output]\n",
        "                delta_h = np.dot(delta_o, self.w_o.T) * a_h * (1. - a_h) # [batch_size, n_hidden]\n",
        "\n",
        "                # compute gradients\n",
        "                grad_w_o = np.dot(a_h.T, delta_o) / self.batch_size     # [n_hidden, n_output]\n",
        "                grad_b_o = np.sum(delta_o, axis=0)/ self.batch_size\n",
        "                grad_w_h = np.dot(X.T, delta_h) / self.batch_size        # [n_features, n_hidden]\n",
        "                grad_b_h = np.sum(delta_h, axis=0) / self.batch_size\n",
        "\n",
        "                # update parameters\n",
        "                self.w_o = self.w_o - self.alpha * grad_w_o    # [n_hidden, n_output]\n",
        "                self.b_o = self.b_o - self.alpha * grad_b_o\n",
        "                self.w_h = self.w_h - self.alpha * grad_w_h     # [n_features, n_hidden]\n",
        "                self.b_h = self.b_h - self.alpha * grad_b_h\n",
        "\n",
        "            # record costs every epoch\n",
        "            z_h, a_h, z_o, a_o = self._forward(X_train)\n",
        "            cost = self._compute_cost(y_train_enc, a_o)\n",
        "            print('Iteration %5d: Cost %f ' % (i, cost))\n",
        "            self.history.append(cost)\n",
        "\n",
        "        return self"
      ]
    },
    {
      "cell_type": "markdown",
      "id": "733931f8",
      "metadata": {
        "id": "733931f8"
      },
      "source": [
        "### Training MLP"
      ]
    },
    {
      "cell_type": "code",
      "execution_count": 52,
      "id": "7f154ffb",
      "metadata": {
        "id": "7f154ffb"
      },
      "outputs": [],
      "source": [
        "# multilayer perceptron with 1 hidden layer, 100 hidden units.\n",
        "# stochastic gradient descent with batch size 100. learning rate = 0.01, epochs = 100\n",
        "\n",
        "nn = NeuralNetMLP(n_hidden=100,\n",
        "                  epochs=100,\n",
        "                  alpha=0.01,\n",
        "                  batch_size=100,\n",
        "                  shuffle=True,\n",
        "                  seed=1)"
      ]
    },
    {
      "cell_type": "code",
      "execution_count": 53,
      "id": "1aa02ffb",
      "metadata": {
        "colab": {
          "base_uri": "https://localhost:8080/"
        },
        "id": "1aa02ffb",
        "outputId": "c6950792-ffc9-46be-a417-e6b484df50ac"
      },
      "outputs": [
        {
          "output_type": "stream",
          "name": "stdout",
          "text": [
            "number of input  =  784\n",
            "number of hidden =  100\n",
            "number of output =  10\n",
            "Iteration     0: Cost 0.999109 \n",
            "Iteration     1: Cost 0.678495 \n",
            "Iteration     2: Cost 0.541050 \n",
            "Iteration     3: Cost 0.468135 \n",
            "Iteration     4: Cost 0.423162 \n",
            "Iteration     5: Cost 0.387691 \n",
            "Iteration     6: Cost 0.360107 \n",
            "Iteration     7: Cost 0.345119 \n",
            "Iteration     8: Cost 0.329559 \n",
            "Iteration     9: Cost 0.313232 \n",
            "Iteration    10: Cost 0.300030 \n",
            "Iteration    11: Cost 0.290833 \n",
            "Iteration    12: Cost 0.286214 \n",
            "Iteration    13: Cost 0.277689 \n",
            "Iteration    14: Cost 0.268581 \n",
            "Iteration    15: Cost 0.261748 \n",
            "Iteration    16: Cost 0.254265 \n",
            "Iteration    17: Cost 0.248339 \n",
            "Iteration    18: Cost 0.241209 \n",
            "Iteration    19: Cost 0.235020 \n",
            "Iteration    20: Cost 0.230696 \n",
            "Iteration    21: Cost 0.228479 \n",
            "Iteration    22: Cost 0.223697 \n",
            "Iteration    23: Cost 0.224868 \n",
            "Iteration    24: Cost 0.220010 \n",
            "Iteration    25: Cost 0.213205 \n",
            "Iteration    26: Cost 0.209801 \n",
            "Iteration    27: Cost 0.206610 \n",
            "Iteration    28: Cost 0.206317 \n",
            "Iteration    29: Cost 0.202605 \n",
            "Iteration    30: Cost 0.200607 \n",
            "Iteration    31: Cost 0.199876 \n",
            "Iteration    32: Cost 0.193347 \n",
            "Iteration    33: Cost 0.191997 \n",
            "Iteration    34: Cost 0.189229 \n",
            "Iteration    35: Cost 0.186370 \n",
            "Iteration    36: Cost 0.182114 \n",
            "Iteration    37: Cost 0.180698 \n",
            "Iteration    38: Cost 0.182348 \n",
            "Iteration    39: Cost 0.176957 \n",
            "Iteration    40: Cost 0.177066 \n",
            "Iteration    41: Cost 0.170375 \n",
            "Iteration    42: Cost 0.172872 \n",
            "Iteration    43: Cost 0.166813 \n",
            "Iteration    44: Cost 0.173760 \n",
            "Iteration    45: Cost 0.166132 \n",
            "Iteration    46: Cost 0.163622 \n",
            "Iteration    47: Cost 0.164414 \n",
            "Iteration    48: Cost 0.162057 \n",
            "Iteration    49: Cost 0.159032 \n",
            "Iteration    50: Cost 0.155879 \n",
            "Iteration    51: Cost 0.154095 \n",
            "Iteration    52: Cost 0.149714 \n",
            "Iteration    53: Cost 0.151782 \n",
            "Iteration    54: Cost 0.153056 \n",
            "Iteration    55: Cost 0.149960 \n",
            "Iteration    56: Cost 0.149773 \n",
            "Iteration    57: Cost 0.146122 \n",
            "Iteration    58: Cost 0.142702 \n",
            "Iteration    59: Cost 0.141761 \n",
            "Iteration    60: Cost 0.143395 \n",
            "Iteration    61: Cost 0.143976 \n",
            "Iteration    62: Cost 0.138497 \n",
            "Iteration    63: Cost 0.140395 \n",
            "Iteration    64: Cost 0.136138 \n",
            "Iteration    65: Cost 0.137744 \n",
            "Iteration    66: Cost 0.138355 \n",
            "Iteration    67: Cost 0.132301 \n",
            "Iteration    68: Cost 0.129396 \n",
            "Iteration    69: Cost 0.129141 \n",
            "Iteration    70: Cost 0.130105 \n",
            "Iteration    71: Cost 0.129922 \n",
            "Iteration    72: Cost 0.125878 \n",
            "Iteration    73: Cost 0.127060 \n",
            "Iteration    74: Cost 0.125161 \n",
            "Iteration    75: Cost 0.126342 \n",
            "Iteration    76: Cost 0.125425 \n",
            "Iteration    77: Cost 0.119866 \n",
            "Iteration    78: Cost 0.120006 \n",
            "Iteration    79: Cost 0.118063 \n",
            "Iteration    80: Cost 0.117657 \n",
            "Iteration    81: Cost 0.115806 \n",
            "Iteration    82: Cost 0.119981 \n",
            "Iteration    83: Cost 0.113315 \n",
            "Iteration    84: Cost 0.113202 \n",
            "Iteration    85: Cost 0.113566 \n",
            "Iteration    86: Cost 0.109939 \n",
            "Iteration    87: Cost 0.112346 \n",
            "Iteration    88: Cost 0.108344 \n",
            "Iteration    89: Cost 0.111695 \n",
            "Iteration    90: Cost 0.106847 \n",
            "Iteration    91: Cost 0.106229 \n",
            "Iteration    92: Cost 0.107573 \n",
            "Iteration    93: Cost 0.103868 \n",
            "Iteration    94: Cost 0.106207 \n",
            "Iteration    95: Cost 0.103307 \n",
            "Iteration    96: Cost 0.102132 \n",
            "Iteration    97: Cost 0.102483 \n",
            "Iteration    98: Cost 0.101402 \n",
            "Iteration    99: Cost 0.101037 \n"
          ]
        },
        {
          "output_type": "execute_result",
          "data": {
            "text/plain": [
              "<__main__.NeuralNetMLP at 0x7fdfbeb04220>"
            ]
          },
          "metadata": {},
          "execution_count": 53
        }
      ],
      "source": [
        "# train the network with 60000 training data\n",
        "nn.fit(X_train, y_train)"
      ]
    },
    {
      "cell_type": "markdown",
      "id": "60de210e",
      "metadata": {
        "id": "60de210e"
      },
      "source": [
        "### Number of parameters"
      ]
    },
    {
      "cell_type": "code",
      "execution_count": 54,
      "id": "cf625d1a",
      "metadata": {
        "colab": {
          "base_uri": "https://localhost:8080/"
        },
        "id": "cf625d1a",
        "outputId": "ded50116-7391-43a3-f6ad-9d43a735d935"
      },
      "outputs": [
        {
          "output_type": "stream",
          "name": "stdout",
          "text": [
            "shape of w_h =  (784, 100)\n",
            "shape of b_h =  (100,)\n",
            "shape of w_o =  (100, 10)\n",
            "shape of b_o =  (10,)\n",
            "total number of parameters =  79510\n"
          ]
        }
      ],
      "source": [
        "# check the total number of parameters\n",
        "print(\"shape of w_h = \", nn.w_h.shape)\n",
        "print(\"shape of b_h = \", nn.b_h.shape)\n",
        "print(\"shape of w_o = \", nn.w_o.shape)\n",
        "print(\"shape of b_o = \", nn.b_o.shape)\n",
        "print(\"total number of parameters = \", nn.w_h.shape[0]*nn.w_h.shape[1] + nn.b_h.shape[0] + nn.w_o.shape[0]*nn.w_o.shape[1] + nn.b_o.shape[0])"
      ]
    },
    {
      "cell_type": "markdown",
      "id": "3d5a4c39",
      "metadata": {
        "id": "3d5a4c39"
      },
      "source": [
        "### Plot the cost change"
      ]
    },
    {
      "cell_type": "code",
      "execution_count": 55,
      "id": "9aa9816e",
      "metadata": {
        "colab": {
          "base_uri": "https://localhost:8080/",
          "height": 449
        },
        "id": "9aa9816e",
        "outputId": "7fbd69d8-e5d9-43ec-f16d-1ad9ac8ed70c"
      },
      "outputs": [
        {
          "output_type": "display_data",
          "data": {
            "text/plain": [
              "<Figure size 640x480 with 1 Axes>"
            ],
            "image/png": "[encoded data removed]"
          },
          "metadata": {}
        }
      ],
      "source": [
        "import matplotlib.pyplot as plt\n",
        "\n",
        "# plot the loss - history\n",
        "plt.plot([i for i in range(100)], nn.history)\n",
        "\n",
        "plt.ylabel('Cost')\n",
        "plt.xlabel('Epochs')\n",
        "plt.show()"
      ]
    },
    {
      "cell_type": "markdown",
      "id": "a947eb44",
      "metadata": {
        "id": "a947eb44"
      },
      "source": [
        "### Accuracy of the model"
      ]
    },
    {
      "cell_type": "code",
      "execution_count": 57,
      "id": "dc91ddb1",
      "metadata": {
        "colab": {
          "base_uri": "https://localhost:8080/"
        },
        "id": "dc91ddb1",
        "outputId": "babf824a-02a3-4cd4-9bb7-cf0a0f82d0b8"
      },
      "outputs": [
        {
          "output_type": "stream",
          "name": "stdout",
          "text": [
            "train 정확도: 97.23%\n",
            "test 정확도: 95.43%\n"
          ]
        }
      ],
      "source": [
        "# training accuracy\n",
        "y_train_pred = nn.predict(X_train)\n",
        "acc = np.sum(np.equal(y_train, y_train_pred)) / y_train.shape\n",
        "\n",
        "print('train 정확도: %.2f%%' % (acc * 100))\n",
        "\n",
        "# test accuracy\n",
        "y_test_pred = nn.predict(X_test)\n",
        "acc = np.sum(np.equal(y_test, y_test_pred)) / y_test.shape\n",
        "\n",
        "print('test 정확도: %.2f%%' % (acc * 100))"
      ]
    },
    {
      "cell_type": "markdown",
      "id": "2e7211f7",
      "metadata": {
        "id": "2e7211f7"
      },
      "source": [
        "### Classification test"
      ]
    },
    {
      "cell_type": "code",
      "execution_count": 58,
      "id": "55299e20",
      "metadata": {
        "colab": {
          "base_uri": "https://localhost:8080/",
          "height": 430
        },
        "id": "55299e20",
        "outputId": "3e86321d-a405-486b-ee33-094a9111fc99"
      },
      "outputs": [
        {
          "output_type": "display_data",
          "data": {
            "text/plain": [
              "<Figure size 640x480 with 1 Axes>"
            ],
            "image/png": "[encoded data removed]"
          },
          "metadata": {}
        }
      ],
      "source": [
        "# show image 63000\n",
        "\n",
        "ex = X[63000]\n",
        "ex_image = ex.reshape(28, 28)\n",
        "plt.imshow(ex_image, cmap='Greys')\n",
        "plt.show()"
      ]
    },
    {
      "cell_type": "code",
      "execution_count": 59,
      "id": "5b06afcf",
      "metadata": {
        "colab": {
          "base_uri": "https://localhost:8080/"
        },
        "id": "5b06afcf",
        "outputId": "961d6366-8bbf-49d3-ac33-aa5deb8443a3"
      },
      "outputs": [
        {
          "output_type": "stream",
          "name": "stdout",
          "text": [
            "The image is number :  2\n"
          ]
        }
      ],
      "source": [
        "# classification - predict label of image 63000\n",
        "pred = nn.predict([ex])\n",
        "print(\"The image is number : \", pred[0])"
      ]
    },
    {
      "cell_type": "markdown",
      "id": "0380ee7e",
      "metadata": {
        "id": "0380ee7e"
      },
      "source": [
        "---\n"
      ]
    },
    {
      "cell_type": "markdown",
      "id": "c959661a",
      "metadata": {
        "id": "c959661a"
      },
      "source": [
        "# 3. Multilayer perceptron using scikit learn"
      ]
    },
    {
      "cell_type": "markdown",
      "id": "f1229471",
      "metadata": {
        "id": "f1229471"
      },
      "source": [
        "### Standardize data"
      ]
    },
    {
      "cell_type": "code",
      "execution_count": 60,
      "id": "d66372ea",
      "metadata": {
        "id": "d66372ea"
      },
      "outputs": [],
      "source": [
        "from sklearn.preprocessing import StandardScaler\n",
        "\n",
        "# standardize data\n",
        "sc = StandardScaler()\n",
        "sc.fit(X_train)\n",
        "X_train_std = sc.transform(X_train)\n",
        "X_test_std = sc.transform(X_test)"
      ]
    },
    {
      "cell_type": "code",
      "execution_count": 61,
      "id": "3a4a0f19",
      "metadata": {
        "colab": {
          "base_uri": "https://localhost:8080/"
        },
        "id": "3a4a0f19",
        "outputId": "1cc9d8e4-b505-4f43-d250-0e1dd64fdb72"
      },
      "outputs": [
        {
          "output_type": "execute_result",
          "data": {
            "text/plain": [
              "(60000,)"
            ]
          },
          "metadata": {},
          "execution_count": 61
        }
      ],
      "source": [
        "y_train.shape"
      ]
    },
    {
      "cell_type": "markdown",
      "id": "1ead0c95",
      "metadata": {
        "id": "1ead0c95"
      },
      "source": [
        "### Train MLPClassifier"
      ]
    },
    {
      "cell_type": "code",
      "execution_count": 62,
      "id": "1d6895a4",
      "metadata": {
        "colab": {
          "base_uri": "https://localhost:8080/",
          "height": 1000
        },
        "id": "1d6895a4",
        "outputId": "6f17dccd-5ec2-402e-e86f-eb5c54ebb5e4"
      },
      "outputs": [
        {
          "output_type": "stream",
          "name": "stdout",
          "text": [
            "Iteration 1, loss = 0.41689056\n",
            "Iteration 2, loss = 0.25026337\n",
            "Iteration 3, loss = 0.20809725\n",
            "Iteration 4, loss = 0.18444219\n",
            "Iteration 5, loss = 0.16713313\n",
            "Iteration 6, loss = 0.15427066\n",
            "Iteration 7, loss = 0.14313532\n",
            "Iteration 8, loss = 0.13586182\n",
            "Iteration 9, loss = 0.12837024\n",
            "Iteration 10, loss = 0.12232528\n",
            "Iteration 11, loss = 0.11778416\n",
            "Iteration 12, loss = 0.11328087\n",
            "Iteration 13, loss = 0.10974739\n",
            "Iteration 14, loss = 0.10637758\n",
            "Iteration 15, loss = 0.10370598\n",
            "Iteration 16, loss = 0.10095428\n",
            "Iteration 17, loss = 0.09835926\n",
            "Iteration 18, loss = 0.09663742\n",
            "Iteration 19, loss = 0.09553043\n",
            "Iteration 20, loss = 0.09343205\n",
            "Iteration 21, loss = 0.09240505\n",
            "Iteration 22, loss = 0.09081009\n",
            "Iteration 23, loss = 0.09006995\n",
            "Iteration 24, loss = 0.08928516\n",
            "Iteration 25, loss = 0.08832028\n",
            "Iteration 26, loss = 0.08784616\n",
            "Iteration 27, loss = 0.08727906\n",
            "Iteration 28, loss = 0.08623176\n",
            "Iteration 29, loss = 0.08509248\n",
            "Iteration 30, loss = 0.08503916\n",
            "Iteration 31, loss = 0.08472869\n",
            "Iteration 32, loss = 0.08454073\n",
            "Iteration 33, loss = 0.08343270\n",
            "Iteration 34, loss = 0.08390219\n",
            "Iteration 35, loss = 0.08299714\n",
            "Iteration 36, loss = 0.08250653\n",
            "Iteration 37, loss = 0.08278885\n",
            "Iteration 38, loss = 0.08456384\n",
            "Iteration 39, loss = 0.08274158\n",
            "Iteration 40, loss = 0.08234007\n",
            "Iteration 41, loss = 0.08436894\n",
            "Iteration 42, loss = 0.08443855\n",
            "Iteration 43, loss = 0.08331360\n",
            "Iteration 44, loss = 0.08248065\n",
            "Iteration 45, loss = 0.08223552\n",
            "Iteration 46, loss = 0.08144645\n",
            "Iteration 47, loss = 0.08121637\n",
            "Iteration 48, loss = 0.08067893\n",
            "Iteration 49, loss = 0.08085716\n",
            "Iteration 50, loss = 0.08066155\n",
            "Iteration 51, loss = 0.08004372\n",
            "Iteration 52, loss = 0.08013447\n",
            "Iteration 53, loss = 0.07977591\n",
            "Iteration 54, loss = 0.07965036\n",
            "Iteration 55, loss = 0.07944386\n",
            "Iteration 56, loss = 0.07946776\n",
            "Iteration 57, loss = 0.07925961\n",
            "Iteration 58, loss = 0.07914650\n",
            "Iteration 59, loss = 0.07929907\n",
            "Iteration 60, loss = 0.07894741\n",
            "Iteration 61, loss = 0.07908353\n",
            "Iteration 62, loss = 0.07883906\n",
            "Iteration 63, loss = 0.07907499\n",
            "Iteration 64, loss = 0.07903927\n",
            "Iteration 65, loss = 0.07924408\n",
            "Iteration 66, loss = 0.07911657\n",
            "Iteration 67, loss = 0.07904405\n",
            "Iteration 68, loss = 0.07849868\n",
            "Iteration 69, loss = 0.07857384\n",
            "Iteration 70, loss = 0.07875606\n",
            "Iteration 71, loss = 0.07825730\n",
            "Iteration 72, loss = 0.07837397\n",
            "Iteration 73, loss = 0.07842687\n",
            "Iteration 74, loss = 0.07808086\n",
            "Iteration 75, loss = 0.07820606\n",
            "Iteration 76, loss = 0.07881076\n",
            "Iteration 77, loss = 0.07923678\n",
            "Iteration 78, loss = 0.08154564\n",
            "Iteration 79, loss = 0.08075734\n",
            "Iteration 80, loss = 0.07969141\n",
            "Iteration 81, loss = 0.07934346\n",
            "Iteration 82, loss = 0.07880421\n",
            "Iteration 83, loss = 0.07830437\n",
            "Iteration 84, loss = 0.07835996\n",
            "Iteration 85, loss = 0.07916688\n",
            "Training loss did not improve more than tol=0.000100 for 10 consecutive epochs. Stopping.\n"
          ]
        },
        {
          "output_type": "execute_result",
          "data": {
            "text/plain": [
              "MLPClassifier(alpha=0.1, batch_size=100, hidden_layer_sizes=100,\n",
              "              learning_rate_init=0.01, max_iter=100, random_state=0,\n",
              "              solver='sgd', verbose=10)"
            ],
            "text/html": [
              "<style>#sk-container-id-1 {color: black;background-color: white;}#sk-container-id-1 pre{padding: 0;}#sk-container-id-1 div.sk-toggleable {background-color: white;}#sk-container-id-1 label.sk-toggleable__label {cursor: pointer;display: block;width: 100%;margin-bottom: 0;padding: 0.3em;box-sizing: border-box;text-align: center;}#sk-container-id-1 label.sk-toggleable__label-arrow:before {content: \"▸\";float: left;margin-right: 0.25em;color: #696969;}#sk-container-id-1 label.sk-toggleable__label-arrow:hover:before {color: black;}#sk-container-id-1 div.sk-estimator:hover label.sk-toggleable__label-arrow:before {color: black;}#sk-container-id-1 div.sk-toggleable__content {max-height: 0;max-width: 0;overflow: hidden;text-align: left;background-color: #f0f8ff;}#sk-container-id-1 div.sk-toggleable__content pre {margin: 0.2em;color: black;border-radius: 0.25em;background-color: #f0f8ff;}#sk-container-id-1 input.sk-toggleable__control:checked~div.sk-toggleable__content {max-height: 200px;max-width: 100%;overflow: auto;}#sk-container-id-1 input.sk-toggleable__control:checked~label.sk-toggleable__label-arrow:before {content: \"▾\";}#sk-container-id-1 div.sk-estimator input.sk-toggleable__control:checked~label.sk-toggleable__label {background-color: #d4ebff;}#sk-container-id-1 div.sk-label input.sk-toggleable__control:checked~label.sk-toggleable__label {background-color: #d4ebff;}#sk-container-id-1 input.sk-hidden--visually {border: 0;clip: rect(1px 1px 1px 1px);clip: rect(1px, 1px, 1px, 1px);height: 1px;margin: -1px;overflow: hidden;padding: 0;position: absolute;width: 1px;}#sk-container-id-1 div.sk-estimator {font-family: monospace;background-color: #f0f8ff;border: 1px dotted black;border-radius: 0.25em;box-sizing: border-box;margin-bottom: 0.5em;}#sk-container-id-1 div.sk-estimator:hover {background-color: #d4ebff;}#sk-container-id-1 div.sk-parallel-item::after {content: \"\";width: 100%;border-bottom: 1px solid gray;flex-grow: 1;}#sk-container-id-1 div.sk-label:hover label.sk-toggleable__label {background-color: #d4ebff;}#sk-container-id-1 div.sk-serial::before {content: \"\";position: absolute;border-left: 1px solid gray;box-sizing: border-box;top: 0;bottom: 0;left: 50%;z-index: 0;}#sk-container-id-1 div.sk-serial {display: flex;flex-direction: column;align-items: center;background-color: white;padding-right: 0.2em;padding-left: 0.2em;position: relative;}#sk-container-id-1 div.sk-item {position: relative;z-index: 1;}#sk-container-id-1 div.sk-parallel {display: flex;align-items: stretch;justify-content: center;background-color: white;position: relative;}#sk-container-id-1 div.sk-item::before, #sk-container-id-1 div.sk-parallel-item::before {content: \"\";position: absolute;border-left: 1px solid gray;box-sizing: border-box;top: 0;bottom: 0;left: 50%;z-index: -1;}#sk-container-id-1 div.sk-parallel-item {display: flex;flex-direction: column;z-index: 1;position: relative;background-color: white;}#sk-container-id-1 div.sk-parallel-item:first-child::after {align-self: flex-end;width: 50%;}#sk-container-id-1 div.sk-parallel-item:last-child::after {align-self: flex-start;width: 50%;}#sk-container-id-1 div.sk-parallel-item:only-child::after {width: 0;}#sk-container-id-1 div.sk-dashed-wrapped {border: 1px dashed gray;margin: 0 0.4em 0.5em 0.4em;box-sizing: border-box;padding-bottom: 0.4em;background-color: white;}#sk-container-id-1 div.sk-label label {font-family: monospace;font-weight: bold;display: inline-block;line-height: 1.2em;}#sk-container-id-1 div.sk-label-container {text-align: center;}#sk-container-id-1 div.sk-container {/* jupyter's `normalize.less` sets `[hidden] { display: none; }` but bootstrap.min.css set `[hidden] { display: none !important; }` so we also need the `!important` here to be able to override the default hidden behavior on the sphinx rendered scikit-learn.org. See: https://github.com/scikit-learn/scikit-learn/issues/21755 */display: inline-block !important;position: relative;}#sk-container-id-1 div.sk-text-repr-fallback {display: none;}</style><div id=\"sk-container-id-1\" class=\"sk-top-container\"><div class=\"sk-text-repr-fallback\"><pre>MLPClassifier(alpha=0.1, batch_size=100, hidden_layer_sizes=100,\n",
              "              learning_rate_init=0.01, max_iter=100, random_state=0,\n",
              "              solver=&#x27;sgd&#x27;, verbose=10)</pre><b>In a Jupyter environment, please rerun this cell to show the HTML representation or trust the notebook. <br />On GitHub, the HTML representation is unable to render, please try loading this page with nbviewer.org.</b></div><div class=\"sk-container\" hidden><div class=\"sk-item\"><div class=\"sk-estimator sk-toggleable\"><input class=\"sk-toggleable__control sk-hidden--visually\" id=\"sk-estimator-id-1\" type=\"checkbox\" checked><label for=\"sk-estimator-id-1\" class=\"sk-toggleable__label sk-toggleable__label-arrow\">MLPClassifier</label><div class=\"sk-toggleable__content\"><pre>MLPClassifier(alpha=0.1, batch_size=100, hidden_layer_sizes=100,\n",
              "              learning_rate_init=0.01, max_iter=100, random_state=0,\n",
              "              solver=&#x27;sgd&#x27;, verbose=10)</pre></div></div></div></div></div>"
            ]
          },
          "metadata": {},
          "execution_count": 62
        }
      ],
      "source": [
        "from sklearn.neural_network import MLPClassifier\n",
        "\n",
        "# Multilayer perceptron from scikit learn with 1 hidden layer, 100 hidden units\n",
        "# stochastic gradient descent with batch size 100. learning rate = 0.01, L2 regularization parameter = 1e-1,\n",
        "mlp = MLPClassifier(hidden_layer_sizes=(100), batch_size=100, max_iter=100, alpha=1e-1,\n",
        "                    solver='sgd', verbose=10, tol=1e-4, random_state=0,\n",
        "                    learning_rate_init=0.01)\n",
        "\n",
        "mlp.fit(X_train_std, y_train)"
      ]
    },
    {
      "cell_type": "markdown",
      "id": "c28722d1",
      "metadata": {
        "id": "c28722d1"
      },
      "source": [
        "### Plot the cost change"
      ]
    },
    {
      "cell_type": "code",
      "execution_count": 63,
      "id": "442dd53a",
      "metadata": {
        "colab": {
          "base_uri": "https://localhost:8080/",
          "height": 430
        },
        "id": "442dd53a",
        "outputId": "552bc344-1fde-4533-b997-21c16a9f36b1"
      },
      "outputs": [
        {
          "output_type": "display_data",
          "data": {
            "text/plain": [
              "<Figure size 640x480 with 1 Axes>"
            ],
            "image/png": "[encoded data removed]"
          },
          "metadata": {}
        }
      ],
      "source": [
        "# plot the loss. use loss_curve_\n",
        "plt.plot(mlp.loss_curve_)\n",
        "plt.show()"
      ]
    },
    {
      "cell_type": "markdown",
      "id": "a19f7e07",
      "metadata": {
        "id": "a19f7e07"
      },
      "source": [
        "### Accuracy of the model"
      ]
    },
    {
      "cell_type": "code",
      "execution_count": 65,
      "id": "2a8a4c29",
      "metadata": {
        "colab": {
          "base_uri": "https://localhost:8080/"
        },
        "id": "2a8a4c29",
        "outputId": "4866e9c7-50e5-4c42-ab7d-984f7de07cee"
      },
      "outputs": [
        {
          "output_type": "stream",
          "name": "stdout",
          "text": [
            "Train accuracy : 0.9978\n",
            "Train accuracy : 0.9779\n"
          ]
        }
      ],
      "source": [
        "# Train and test accuracy\n",
        "acc = mlp.score(X_train_std, y_train)\n",
        "print(\"Train accuracy : %.4f\" % acc)\n",
        "acc = mlp.score(X_test_std, y_test)\n",
        "print(\"Train accuracy : %.4f\" % acc)"
      ]
    },
    {
      "cell_type": "markdown",
      "id": "c4182f85",
      "metadata": {
        "id": "c4182f85"
      },
      "source": [
        "### Classification test"
      ]
    },
    {
      "cell_type": "code",
      "execution_count": 66,
      "id": "b2313f32",
      "metadata": {
        "colab": {
          "base_uri": "https://localhost:8080/",
          "height": 430
        },
        "id": "b2313f32",
        "outputId": "203395be-2e65-43f0-8dca-c88e05ad7de2"
      },
      "outputs": [
        {
          "output_type": "display_data",
          "data": {
            "text/plain": [
              "<Figure size 640x480 with 1 Axes>"
            ],
            "image/png": "[encoded data removed]"
          },
          "metadata": {}
        }
      ],
      "source": [
        "# show image 63000\n",
        "ex = X[63000]\n",
        "ex_image = ex.reshape(28, 28)\n",
        "plt.imshow(ex_image, cmap='Greys')\n",
        "plt.show()"
      ]
    },
    {
      "cell_type": "code",
      "execution_count": 67,
      "id": "03f27cc2",
      "metadata": {
        "colab": {
          "base_uri": "https://localhost:8080/"
        },
        "id": "03f27cc2",
        "outputId": "be4fb251-8425-4c4d-9959-9084d5e72563"
      },
      "outputs": [
        {
          "output_type": "stream",
          "name": "stdout",
          "text": [
            "The image is number :  2\n"
          ]
        }
      ],
      "source": [
        "# classification - predict label of image 63000\n",
        "pred = nn.predict([ex])\n",
        "print(\"The image is number : \", pred[0])"
      ]
    },
    {
      "cell_type": "markdown",
      "id": "baa2a306",
      "metadata": {
        "id": "baa2a306"
      },
      "source": [
        "### Examples of incorrect classification"
      ]
    },
    {
      "cell_type": "code",
      "execution_count": 68,
      "id": "f01afe94",
      "metadata": {
        "colab": {
          "base_uri": "https://localhost:8080/",
          "height": 406
        },
        "id": "f01afe94",
        "outputId": "59f689f2-7c5f-47bf-934b-09d0fad945f8"
      },
      "outputs": [
        {
          "output_type": "stream",
          "name": "stdout",
          "text": [
            "total 457 images are incorrectly classified\n",
            "samples(t:true label, p:predicted label):\n"
          ]
        },
        {
          "output_type": "display_data",
          "data": {
            "text/plain": [
              "<Figure size 640x480 with 10 Axes>"
            ],
            "image/png": "[encoded data removed]"
          },
          "metadata": {}
        }
      ],
      "source": [
        "# check the incorrect results\n",
        "mistake_img = X_test[y_test != y_test_pred]\n",
        "true_lab = y_test[y_test != y_test_pred]\n",
        "pred_lab = y_test_pred[y_test != y_test_pred]\n",
        "\n",
        "print(\"total %d images are incorrectly classified\" % mistake_img.shape[0])\n",
        "print(\"samples(t:true label, p:predicted label):\")\n",
        "\n",
        "# show the misclassified image examples\n",
        "fig, ax = plt.subplots(nrows=2, ncols=5, sharex=True, sharey=True)\n",
        "ax = ax.flatten()\n",
        "for i in range(10):\n",
        "    img = mistake_img[true_lab == i][0].reshape(28, 28)\n",
        "    ax[i].imshow(img, cmap='Greys')\n",
        "    ax[i].set_title('t: %d p: %d' % (true_lab[true_lab == i][0], pred_lab[true_lab == i][0]))\n",
        "\n",
        "plt.show()"
      ]
    },
    {
      "cell_type": "markdown",
      "id": "e31ca5c1",
      "metadata": {
        "id": "e31ca5c1"
      },
      "source": [
        "### Number of parameters"
      ]
    },
    {
      "cell_type": "code",
      "execution_count": 69,
      "id": "8db3d6ae",
      "metadata": {
        "colab": {
          "base_uri": "https://localhost:8080/"
        },
        "id": "8db3d6ae",
        "outputId": "f6804d40-cc30-4cdd-c84d-a0edd90c79e1"
      },
      "outputs": [
        {
          "output_type": "stream",
          "name": "stdout",
          "text": [
            "shape of w[0]  (784, 100)\n",
            "shape of b[0]  (100,)\n",
            "shape of w[1]  (100, 10)\n",
            "shape of b[1]  (10,)\n",
            "total number of parameters =  79510\n"
          ]
        }
      ],
      "source": [
        "# check the total number of parameters\n",
        "# parameters are mlp.coefs_ and mlp.intercepts_\n",
        "print(\"shape of w[0] \", mlp.coefs_[0].shape)\n",
        "print(\"shape of b[0] \", mlp.intercepts_[0].shape)\n",
        "print(\"shape of w[1] \", mlp.coefs_[1].shape)\n",
        "print(\"shape of b[1] \", mlp.intercepts_[1].shape)\n",
        "print(\"total number of parameters = \", mlp.coefs_[0].shape[0]*mlp.coefs_[0].shape[1] + mlp.intercepts_[0].shape[0]\n",
        "                                     + mlp.coefs_[1].shape[0]*mlp.coefs_[1].shape[1] + mlp.intercepts_[1].shape[0])"
      ]
    },
    {
      "cell_type": "markdown",
      "id": "e888686a",
      "metadata": {
        "id": "e888686a"
      },
      "source": [
        "### Visualize parameters"
      ]
    },
    {
      "cell_type": "code",
      "execution_count": 70,
      "id": "1f648e47",
      "metadata": {
        "colab": {
          "base_uri": "https://localhost:8080/"
        },
        "id": "1f648e47",
        "outputId": "a4765366-c397-4a04-cef6-88b591b26c63"
      },
      "outputs": [
        {
          "output_type": "execute_result",
          "data": {
            "text/plain": [
              "(784, 100)"
            ]
          },
          "metadata": {},
          "execution_count": 70
        }
      ],
      "source": [
        "# weights of hidden layer\n",
        "mlp.coefs_[0].shape"
      ]
    },
    {
      "cell_type": "code",
      "execution_count": 71,
      "id": "f5744969",
      "metadata": {
        "colab": {
          "base_uri": "https://localhost:8080/",
          "height": 498
        },
        "id": "f5744969",
        "outputId": "059ba87a-dc57-44ad-9562-831caa03ae5a"
      },
      "outputs": [
        {
          "output_type": "display_data",
          "data": {
            "text/plain": [
              "<Figure size 600x600 with 100 Axes>"
            ],
            "image/png": "[encoded data removed]"
          },
          "metadata": {}
        }
      ],
      "source": [
        "# display weights of hidden layer (784, 100)\n",
        "\n",
        "fig, axes = plt.subplots(10, 10, figsize=(6, 6))\n",
        "plt.figsize = 20\n",
        "\n",
        "# use global min / max to ensure all weights are shown on the same scale\n",
        "vmin, vmax = mlp.coefs_[0].min(), mlp.coefs_[0].max()\n",
        "for coef, ax in zip(mlp.coefs_[0].T, axes.ravel()):\n",
        "    ax.matshow(coef.reshape(28, 28), cmap=plt.cm.gray, vmin=.5 * vmin, vmax=.5 * vmax)\n",
        "    ax.set_xticks(())\n",
        "    ax.set_yticks(())\n",
        "\n",
        "plt.show()"
      ]
    },
    {
      "cell_type": "code",
      "execution_count": 72,
      "id": "6337b681",
      "metadata": {
        "colab": {
          "base_uri": "https://localhost:8080/"
        },
        "id": "6337b681",
        "outputId": "33331ed6-9968-4e89-de8d-685d14b30a28"
      },
      "outputs": [
        {
          "output_type": "execute_result",
          "data": {
            "text/plain": [
              "(100, 10)"
            ]
          },
          "metadata": {},
          "execution_count": 72
        }
      ],
      "source": [
        "# weights of output layer\n",
        "mlp.coefs_[1].shape"
      ]
    },
    {
      "cell_type": "code",
      "execution_count": 73,
      "id": "728daa67",
      "metadata": {
        "colab": {
          "base_uri": "https://localhost:8080/",
          "height": 79
        },
        "id": "728daa67",
        "outputId": "1682f122-901b-43eb-e570-7be97d832ddb"
      },
      "outputs": [
        {
          "output_type": "display_data",
          "data": {
            "text/plain": [
              "<Figure size 640x480 with 10 Axes>"
            ],
            "image/png": "[encoded data removed]"
          },
          "metadata": {}
        }
      ],
      "source": [
        "# display weights of output layer (100, 10)\n",
        "fig, axes = plt.subplots(1, 10)\n",
        "\n",
        "# use global min / max to ensure all weights are shown on the same scale\n",
        "vmin, vmax = mlp.coefs_[1].min(), mlp.coefs_[1].max()\n",
        "for coef, ax in zip(mlp.coefs_[1].T, axes.ravel()):\n",
        "    ax.matshow(coef.reshape(10, 10), cmap=plt.cm.gray, vmin=.5 * vmin, vmax=.5 * vmax)\n",
        "    ax.set_xticks(())\n",
        "    ax.set_yticks(())\n",
        "\n",
        "plt.show()"
      ]
    }
  ],
  "metadata": {
    "kernelspec": {
      "display_name": "Python 3 (ipykernel)",
      "language": "python",
      "name": "python3"
    },
    "language_info": {
      "codemirror_mode": {
        "name": "ipython",
        "version": 3
      },
      "file_extension": ".py",
      "mimetype": "text/x-python",
      "name": "python",
      "nbconvert_exporter": "python",
      "pygments_lexer": "ipython3",
      "version": "3.10.9"
    },
    "colab": {
      "provenance": [],
      "include_colab_link": true
    }
  },
  "nbformat": 4,
  "nbformat_minor": 5
}